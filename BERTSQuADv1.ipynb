{
  "nbformat": 4,
  "nbformat_minor": 0,
  "metadata": {
    "colab": {
      "name": "BERTSQuADv1",
      "provenance": [],
      "collapsed_sections": [],
      "machine_shape": "hm",
      "authorship_tag": "ABX9TyM3o8bJT/0CFUd6fCxQylsX",
      "include_colab_link": true
    },
    "kernelspec": {
      "name": "python3",
      "display_name": "Python 3"
    },
    "accelerator": "GPU",
    "widgets": {
      "application/vnd.jupyter.widget-state+json": {
        "593c28eb47964f02b21b8f31850d0252": {
          "model_module": "@jupyter-widgets/controls",
          "model_name": "HBoxModel",
          "state": {
            "_view_name": "HBoxView",
            "_dom_classes": [],
            "_model_name": "HBoxModel",
            "_view_module": "@jupyter-widgets/controls",
            "_model_module_version": "1.5.0",
            "_view_count": null,
            "_view_module_version": "1.5.0",
            "box_style": "",
            "layout": "IPY_MODEL_90a22dcf17514f68a9bb9ed2dfaae2aa",
            "_model_module": "@jupyter-widgets/controls",
            "children": [
              "IPY_MODEL_283cb233c12845e6b517e8282efe1d38",
              "IPY_MODEL_fcda87a8d4504d05b20648a5c7241f56"
            ]
          }
        },
        "90a22dcf17514f68a9bb9ed2dfaae2aa": {
          "model_module": "@jupyter-widgets/base",
          "model_name": "LayoutModel",
          "state": {
            "_view_name": "LayoutView",
            "grid_template_rows": null,
            "right": null,
            "justify_content": null,
            "_view_module": "@jupyter-widgets/base",
            "overflow": null,
            "_model_module_version": "1.2.0",
            "_view_count": null,
            "flex_flow": null,
            "width": null,
            "min_width": null,
            "border": null,
            "align_items": null,
            "bottom": null,
            "_model_module": "@jupyter-widgets/base",
            "top": null,
            "grid_column": null,
            "overflow_y": null,
            "overflow_x": null,
            "grid_auto_flow": null,
            "grid_area": null,
            "grid_template_columns": null,
            "flex": null,
            "_model_name": "LayoutModel",
            "justify_items": null,
            "grid_row": null,
            "max_height": null,
            "align_content": null,
            "visibility": null,
            "align_self": null,
            "height": null,
            "min_height": null,
            "padding": null,
            "grid_auto_rows": null,
            "grid_gap": null,
            "max_width": null,
            "order": null,
            "_view_module_version": "1.2.0",
            "grid_template_areas": null,
            "object_position": null,
            "object_fit": null,
            "grid_auto_columns": null,
            "margin": null,
            "display": null,
            "left": null
          }
        },
        "283cb233c12845e6b517e8282efe1d38": {
          "model_module": "@jupyter-widgets/controls",
          "model_name": "IntProgressModel",
          "state": {
            "_view_name": "ProgressView",
            "style": "IPY_MODEL_4b3c58c502fb432590f0ce2226d0fa3b",
            "_dom_classes": [],
            "description": "Downloading",
            "_model_name": "IntProgressModel",
            "bar_style": "success",
            "max": 231508,
            "_view_module": "@jupyter-widgets/controls",
            "_model_module_version": "1.5.0",
            "value": 231508,
            "_view_count": null,
            "_view_module_version": "1.5.0",
            "orientation": "horizontal",
            "min": 0,
            "description_tooltip": null,
            "_model_module": "@jupyter-widgets/controls",
            "layout": "IPY_MODEL_ef9cf830cbe44feeb4dfcc87270c074e"
          }
        },
        "fcda87a8d4504d05b20648a5c7241f56": {
          "model_module": "@jupyter-widgets/controls",
          "model_name": "HTMLModel",
          "state": {
            "_view_name": "HTMLView",
            "style": "IPY_MODEL_de7fc42f97524d1ab540777d101657e1",
            "_dom_classes": [],
            "description": "",
            "_model_name": "HTMLModel",
            "placeholder": "​",
            "_view_module": "@jupyter-widgets/controls",
            "_model_module_version": "1.5.0",
            "value": "100% 232k/232k [00:00&lt;00:00, 427kB/s]",
            "_view_count": null,
            "_view_module_version": "1.5.0",
            "description_tooltip": null,
            "_model_module": "@jupyter-widgets/controls",
            "layout": "IPY_MODEL_eeaff867bb9244fcaeba6b8eb2dd4d33"
          }
        },
        "4b3c58c502fb432590f0ce2226d0fa3b": {
          "model_module": "@jupyter-widgets/controls",
          "model_name": "ProgressStyleModel",
          "state": {
            "_view_name": "StyleView",
            "_model_name": "ProgressStyleModel",
            "description_width": "initial",
            "_view_module": "@jupyter-widgets/base",
            "_model_module_version": "1.5.0",
            "_view_count": null,
            "_view_module_version": "1.2.0",
            "bar_color": null,
            "_model_module": "@jupyter-widgets/controls"
          }
        },
        "ef9cf830cbe44feeb4dfcc87270c074e": {
          "model_module": "@jupyter-widgets/base",
          "model_name": "LayoutModel",
          "state": {
            "_view_name": "LayoutView",
            "grid_template_rows": null,
            "right": null,
            "justify_content": null,
            "_view_module": "@jupyter-widgets/base",
            "overflow": null,
            "_model_module_version": "1.2.0",
            "_view_count": null,
            "flex_flow": null,
            "width": null,
            "min_width": null,
            "border": null,
            "align_items": null,
            "bottom": null,
            "_model_module": "@jupyter-widgets/base",
            "top": null,
            "grid_column": null,
            "overflow_y": null,
            "overflow_x": null,
            "grid_auto_flow": null,
            "grid_area": null,
            "grid_template_columns": null,
            "flex": null,
            "_model_name": "LayoutModel",
            "justify_items": null,
            "grid_row": null,
            "max_height": null,
            "align_content": null,
            "visibility": null,
            "align_self": null,
            "height": null,
            "min_height": null,
            "padding": null,
            "grid_auto_rows": null,
            "grid_gap": null,
            "max_width": null,
            "order": null,
            "_view_module_version": "1.2.0",
            "grid_template_areas": null,
            "object_position": null,
            "object_fit": null,
            "grid_auto_columns": null,
            "margin": null,
            "display": null,
            "left": null
          }
        },
        "de7fc42f97524d1ab540777d101657e1": {
          "model_module": "@jupyter-widgets/controls",
          "model_name": "DescriptionStyleModel",
          "state": {
            "_view_name": "StyleView",
            "_model_name": "DescriptionStyleModel",
            "description_width": "",
            "_view_module": "@jupyter-widgets/base",
            "_model_module_version": "1.5.0",
            "_view_count": null,
            "_view_module_version": "1.2.0",
            "_model_module": "@jupyter-widgets/controls"
          }
        },
        "eeaff867bb9244fcaeba6b8eb2dd4d33": {
          "model_module": "@jupyter-widgets/base",
          "model_name": "LayoutModel",
          "state": {
            "_view_name": "LayoutView",
            "grid_template_rows": null,
            "right": null,
            "justify_content": null,
            "_view_module": "@jupyter-widgets/base",
            "overflow": null,
            "_model_module_version": "1.2.0",
            "_view_count": null,
            "flex_flow": null,
            "width": null,
            "min_width": null,
            "border": null,
            "align_items": null,
            "bottom": null,
            "_model_module": "@jupyter-widgets/base",
            "top": null,
            "grid_column": null,
            "overflow_y": null,
            "overflow_x": null,
            "grid_auto_flow": null,
            "grid_area": null,
            "grid_template_columns": null,
            "flex": null,
            "_model_name": "LayoutModel",
            "justify_items": null,
            "grid_row": null,
            "max_height": null,
            "align_content": null,
            "visibility": null,
            "align_self": null,
            "height": null,
            "min_height": null,
            "padding": null,
            "grid_auto_rows": null,
            "grid_gap": null,
            "max_width": null,
            "order": null,
            "_view_module_version": "1.2.0",
            "grid_template_areas": null,
            "object_position": null,
            "object_fit": null,
            "grid_auto_columns": null,
            "margin": null,
            "display": null,
            "left": null
          }
        },
        "1d3bdbc137d74d998734854419a949e9": {
          "model_module": "@jupyter-widgets/controls",
          "model_name": "HBoxModel",
          "state": {
            "_view_name": "HBoxView",
            "_dom_classes": [],
            "_model_name": "HBoxModel",
            "_view_module": "@jupyter-widgets/controls",
            "_model_module_version": "1.5.0",
            "_view_count": null,
            "_view_module_version": "1.5.0",
            "box_style": "",
            "layout": "IPY_MODEL_6ee466a0908848b986ddcb4e025cc81d",
            "_model_module": "@jupyter-widgets/controls",
            "children": [
              "IPY_MODEL_45762347ad224e9184ef55e783871a12",
              "IPY_MODEL_22b342360b214ddda2d9fff5a6684e80"
            ]
          }
        },
        "6ee466a0908848b986ddcb4e025cc81d": {
          "model_module": "@jupyter-widgets/base",
          "model_name": "LayoutModel",
          "state": {
            "_view_name": "LayoutView",
            "grid_template_rows": null,
            "right": null,
            "justify_content": null,
            "_view_module": "@jupyter-widgets/base",
            "overflow": null,
            "_model_module_version": "1.2.0",
            "_view_count": null,
            "flex_flow": null,
            "width": null,
            "min_width": null,
            "border": null,
            "align_items": null,
            "bottom": null,
            "_model_module": "@jupyter-widgets/base",
            "top": null,
            "grid_column": null,
            "overflow_y": null,
            "overflow_x": null,
            "grid_auto_flow": null,
            "grid_area": null,
            "grid_template_columns": null,
            "flex": null,
            "_model_name": "LayoutModel",
            "justify_items": null,
            "grid_row": null,
            "max_height": null,
            "align_content": null,
            "visibility": null,
            "align_self": null,
            "height": null,
            "min_height": null,
            "padding": null,
            "grid_auto_rows": null,
            "grid_gap": null,
            "max_width": null,
            "order": null,
            "_view_module_version": "1.2.0",
            "grid_template_areas": null,
            "object_position": null,
            "object_fit": null,
            "grid_auto_columns": null,
            "margin": null,
            "display": null,
            "left": null
          }
        },
        "45762347ad224e9184ef55e783871a12": {
          "model_module": "@jupyter-widgets/controls",
          "model_name": "IntProgressModel",
          "state": {
            "_view_name": "ProgressView",
            "style": "IPY_MODEL_19cb87de71674e4397245c4cf29b97e8",
            "_dom_classes": [],
            "description": "Downloading",
            "_model_name": "IntProgressModel",
            "bar_style": "success",
            "max": 398,
            "_view_module": "@jupyter-widgets/controls",
            "_model_module_version": "1.5.0",
            "value": 398,
            "_view_count": null,
            "_view_module_version": "1.5.0",
            "orientation": "horizontal",
            "min": 0,
            "description_tooltip": null,
            "_model_module": "@jupyter-widgets/controls",
            "layout": "IPY_MODEL_b7d3f6e260904a8fa5ba4395f801f6c7"
          }
        },
        "22b342360b214ddda2d9fff5a6684e80": {
          "model_module": "@jupyter-widgets/controls",
          "model_name": "HTMLModel",
          "state": {
            "_view_name": "HTMLView",
            "style": "IPY_MODEL_a829c3d8c3084548adbcc810c24f7d6c",
            "_dom_classes": [],
            "description": "",
            "_model_name": "HTMLModel",
            "placeholder": "​",
            "_view_module": "@jupyter-widgets/controls",
            "_model_module_version": "1.5.0",
            "value": "100% 398/398 [00:00&lt;00:00, 14.4kB/s]",
            "_view_count": null,
            "_view_module_version": "1.5.0",
            "description_tooltip": null,
            "_model_module": "@jupyter-widgets/controls",
            "layout": "IPY_MODEL_005fe99500a64e2691e46737d3f08d0d"
          }
        },
        "19cb87de71674e4397245c4cf29b97e8": {
          "model_module": "@jupyter-widgets/controls",
          "model_name": "ProgressStyleModel",
          "state": {
            "_view_name": "StyleView",
            "_model_name": "ProgressStyleModel",
            "description_width": "initial",
            "_view_module": "@jupyter-widgets/base",
            "_model_module_version": "1.5.0",
            "_view_count": null,
            "_view_module_version": "1.2.0",
            "bar_color": null,
            "_model_module": "@jupyter-widgets/controls"
          }
        },
        "b7d3f6e260904a8fa5ba4395f801f6c7": {
          "model_module": "@jupyter-widgets/base",
          "model_name": "LayoutModel",
          "state": {
            "_view_name": "LayoutView",
            "grid_template_rows": null,
            "right": null,
            "justify_content": null,
            "_view_module": "@jupyter-widgets/base",
            "overflow": null,
            "_model_module_version": "1.2.0",
            "_view_count": null,
            "flex_flow": null,
            "width": null,
            "min_width": null,
            "border": null,
            "align_items": null,
            "bottom": null,
            "_model_module": "@jupyter-widgets/base",
            "top": null,
            "grid_column": null,
            "overflow_y": null,
            "overflow_x": null,
            "grid_auto_flow": null,
            "grid_area": null,
            "grid_template_columns": null,
            "flex": null,
            "_model_name": "LayoutModel",
            "justify_items": null,
            "grid_row": null,
            "max_height": null,
            "align_content": null,
            "visibility": null,
            "align_self": null,
            "height": null,
            "min_height": null,
            "padding": null,
            "grid_auto_rows": null,
            "grid_gap": null,
            "max_width": null,
            "order": null,
            "_view_module_version": "1.2.0",
            "grid_template_areas": null,
            "object_position": null,
            "object_fit": null,
            "grid_auto_columns": null,
            "margin": null,
            "display": null,
            "left": null
          }
        },
        "a829c3d8c3084548adbcc810c24f7d6c": {
          "model_module": "@jupyter-widgets/controls",
          "model_name": "DescriptionStyleModel",
          "state": {
            "_view_name": "StyleView",
            "_model_name": "DescriptionStyleModel",
            "description_width": "",
            "_view_module": "@jupyter-widgets/base",
            "_model_module_version": "1.5.0",
            "_view_count": null,
            "_view_module_version": "1.2.0",
            "_model_module": "@jupyter-widgets/controls"
          }
        },
        "005fe99500a64e2691e46737d3f08d0d": {
          "model_module": "@jupyter-widgets/base",
          "model_name": "LayoutModel",
          "state": {
            "_view_name": "LayoutView",
            "grid_template_rows": null,
            "right": null,
            "justify_content": null,
            "_view_module": "@jupyter-widgets/base",
            "overflow": null,
            "_model_module_version": "1.2.0",
            "_view_count": null,
            "flex_flow": null,
            "width": null,
            "min_width": null,
            "border": null,
            "align_items": null,
            "bottom": null,
            "_model_module": "@jupyter-widgets/base",
            "top": null,
            "grid_column": null,
            "overflow_y": null,
            "overflow_x": null,
            "grid_auto_flow": null,
            "grid_area": null,
            "grid_template_columns": null,
            "flex": null,
            "_model_name": "LayoutModel",
            "justify_items": null,
            "grid_row": null,
            "max_height": null,
            "align_content": null,
            "visibility": null,
            "align_self": null,
            "height": null,
            "min_height": null,
            "padding": null,
            "grid_auto_rows": null,
            "grid_gap": null,
            "max_width": null,
            "order": null,
            "_view_module_version": "1.2.0",
            "grid_template_areas": null,
            "object_position": null,
            "object_fit": null,
            "grid_auto_columns": null,
            "margin": null,
            "display": null,
            "left": null
          }
        },
        "95b3571154f54fe4849741611e4198f3": {
          "model_module": "@jupyter-widgets/controls",
          "model_name": "HBoxModel",
          "state": {
            "_view_name": "HBoxView",
            "_dom_classes": [],
            "_model_name": "HBoxModel",
            "_view_module": "@jupyter-widgets/controls",
            "_model_module_version": "1.5.0",
            "_view_count": null,
            "_view_module_version": "1.5.0",
            "box_style": "",
            "layout": "IPY_MODEL_e6c2e48e9e24435a8c285c4d72d6af31",
            "_model_module": "@jupyter-widgets/controls",
            "children": [
              "IPY_MODEL_a20d52b344184692b85bcfc93b948668",
              "IPY_MODEL_1d26cb3b9a314cce87f96eca2c1c8fa2"
            ]
          }
        },
        "e6c2e48e9e24435a8c285c4d72d6af31": {
          "model_module": "@jupyter-widgets/base",
          "model_name": "LayoutModel",
          "state": {
            "_view_name": "LayoutView",
            "grid_template_rows": null,
            "right": null,
            "justify_content": null,
            "_view_module": "@jupyter-widgets/base",
            "overflow": null,
            "_model_module_version": "1.2.0",
            "_view_count": null,
            "flex_flow": null,
            "width": null,
            "min_width": null,
            "border": null,
            "align_items": null,
            "bottom": null,
            "_model_module": "@jupyter-widgets/base",
            "top": null,
            "grid_column": null,
            "overflow_y": null,
            "overflow_x": null,
            "grid_auto_flow": null,
            "grid_area": null,
            "grid_template_columns": null,
            "flex": null,
            "_model_name": "LayoutModel",
            "justify_items": null,
            "grid_row": null,
            "max_height": null,
            "align_content": null,
            "visibility": null,
            "align_self": null,
            "height": null,
            "min_height": null,
            "padding": null,
            "grid_auto_rows": null,
            "grid_gap": null,
            "max_width": null,
            "order": null,
            "_view_module_version": "1.2.0",
            "grid_template_areas": null,
            "object_position": null,
            "object_fit": null,
            "grid_auto_columns": null,
            "margin": null,
            "display": null,
            "left": null
          }
        },
        "a20d52b344184692b85bcfc93b948668": {
          "model_module": "@jupyter-widgets/controls",
          "model_name": "IntProgressModel",
          "state": {
            "_view_name": "ProgressView",
            "style": "IPY_MODEL_fdc0262af25840c8a17f53e967d3c932",
            "_dom_classes": [],
            "description": "Downloading",
            "_model_name": "IntProgressModel",
            "bar_style": "success",
            "max": 1340675298,
            "_view_module": "@jupyter-widgets/controls",
            "_model_module_version": "1.5.0",
            "value": 1340675298,
            "_view_count": null,
            "_view_module_version": "1.5.0",
            "orientation": "horizontal",
            "min": 0,
            "description_tooltip": null,
            "_model_module": "@jupyter-widgets/controls",
            "layout": "IPY_MODEL_4fbf9ac739dc467f9e3175696f6c9106"
          }
        },
        "1d26cb3b9a314cce87f96eca2c1c8fa2": {
          "model_module": "@jupyter-widgets/controls",
          "model_name": "HTMLModel",
          "state": {
            "_view_name": "HTMLView",
            "style": "IPY_MODEL_33a5d12db34c46a691fb34b91e30e571",
            "_dom_classes": [],
            "description": "",
            "_model_name": "HTMLModel",
            "placeholder": "​",
            "_view_module": "@jupyter-widgets/controls",
            "_model_module_version": "1.5.0",
            "value": "100% 1.34G/1.34G [01:45&lt;00:00, 12.7MB/s]",
            "_view_count": null,
            "_view_module_version": "1.5.0",
            "description_tooltip": null,
            "_model_module": "@jupyter-widgets/controls",
            "layout": "IPY_MODEL_71fcd9c43c264bf48ff7da5a152667ee"
          }
        },
        "fdc0262af25840c8a17f53e967d3c932": {
          "model_module": "@jupyter-widgets/controls",
          "model_name": "ProgressStyleModel",
          "state": {
            "_view_name": "StyleView",
            "_model_name": "ProgressStyleModel",
            "description_width": "initial",
            "_view_module": "@jupyter-widgets/base",
            "_model_module_version": "1.5.0",
            "_view_count": null,
            "_view_module_version": "1.2.0",
            "bar_color": null,
            "_model_module": "@jupyter-widgets/controls"
          }
        },
        "4fbf9ac739dc467f9e3175696f6c9106": {
          "model_module": "@jupyter-widgets/base",
          "model_name": "LayoutModel",
          "state": {
            "_view_name": "LayoutView",
            "grid_template_rows": null,
            "right": null,
            "justify_content": null,
            "_view_module": "@jupyter-widgets/base",
            "overflow": null,
            "_model_module_version": "1.2.0",
            "_view_count": null,
            "flex_flow": null,
            "width": null,
            "min_width": null,
            "border": null,
            "align_items": null,
            "bottom": null,
            "_model_module": "@jupyter-widgets/base",
            "top": null,
            "grid_column": null,
            "overflow_y": null,
            "overflow_x": null,
            "grid_auto_flow": null,
            "grid_area": null,
            "grid_template_columns": null,
            "flex": null,
            "_model_name": "LayoutModel",
            "justify_items": null,
            "grid_row": null,
            "max_height": null,
            "align_content": null,
            "visibility": null,
            "align_self": null,
            "height": null,
            "min_height": null,
            "padding": null,
            "grid_auto_rows": null,
            "grid_gap": null,
            "max_width": null,
            "order": null,
            "_view_module_version": "1.2.0",
            "grid_template_areas": null,
            "object_position": null,
            "object_fit": null,
            "grid_auto_columns": null,
            "margin": null,
            "display": null,
            "left": null
          }
        },
        "33a5d12db34c46a691fb34b91e30e571": {
          "model_module": "@jupyter-widgets/controls",
          "model_name": "DescriptionStyleModel",
          "state": {
            "_view_name": "StyleView",
            "_model_name": "DescriptionStyleModel",
            "description_width": "",
            "_view_module": "@jupyter-widgets/base",
            "_model_module_version": "1.5.0",
            "_view_count": null,
            "_view_module_version": "1.2.0",
            "_model_module": "@jupyter-widgets/controls"
          }
        },
        "71fcd9c43c264bf48ff7da5a152667ee": {
          "model_module": "@jupyter-widgets/base",
          "model_name": "LayoutModel",
          "state": {
            "_view_name": "LayoutView",
            "grid_template_rows": null,
            "right": null,
            "justify_content": null,
            "_view_module": "@jupyter-widgets/base",
            "overflow": null,
            "_model_module_version": "1.2.0",
            "_view_count": null,
            "flex_flow": null,
            "width": null,
            "min_width": null,
            "border": null,
            "align_items": null,
            "bottom": null,
            "_model_module": "@jupyter-widgets/base",
            "top": null,
            "grid_column": null,
            "overflow_y": null,
            "overflow_x": null,
            "grid_auto_flow": null,
            "grid_area": null,
            "grid_template_columns": null,
            "flex": null,
            "_model_name": "LayoutModel",
            "justify_items": null,
            "grid_row": null,
            "max_height": null,
            "align_content": null,
            "visibility": null,
            "align_self": null,
            "height": null,
            "min_height": null,
            "padding": null,
            "grid_auto_rows": null,
            "grid_gap": null,
            "max_width": null,
            "order": null,
            "_view_module_version": "1.2.0",
            "grid_template_areas": null,
            "object_position": null,
            "object_fit": null,
            "grid_auto_columns": null,
            "margin": null,
            "display": null,
            "left": null
          }
        }
      }
    }
  },
  "cells": [
    {
      "cell_type": "markdown",
      "metadata": {
        "id": "view-in-github",
        "colab_type": "text"
      },
      "source": [
        "<a href=\"https://colab.research.google.com/github/Maraudier/SquadColaChat/blob/Maraudier-testing-1/BERTSQuADv1.ipynb\" target=\"_parent\"><img src=\"https://colab.research.google.com/assets/colab-badge.svg\" alt=\"Open In Colab\"/></a>"
      ]
    },
    {
      "cell_type": "code",
      "metadata": {
        "id": "FkdZwaENGQll",
        "colab_type": "code",
        "outputId": "6e25c832-6284-4f8c-f888-9e5801cb38d8",
        "colab": {
          "base_uri": "https://localhost:8080/",
          "height": 404
        }
      },
      "source": [
        "#Obtain your Kaggle token. \n",
        "token = {\"username\":\"lightshift\",\"key\":\"b7ab47deb22bd26d7cb071a39c232d1c\"}\n",
        "#Colab and Kaggle set up\n",
        "from google.colab import files\n",
        "!pip install kaggle\n",
        "!mkdir .kaggle\n",
        "!mkdir ~/.kaggle\n",
        "import json \n",
        "import os\n",
        "if not os.path.exists('/content/.kaggle/kaggle.json'):\n",
        "  with open('/content/.kaggle/kaggle.json', 'w') as file:\n",
        "    json.dump(token, file)\n",
        "  !chmod 600 /content/.kaggle/kaggle.json\n",
        "  !cp /content/.kaggle/kaggle.json ~/.kaggle/kaggle.json\n",
        "  !kaggle config set -n path -v{/content}\n",
        "\n",
        "  !kaggle datasets download -d stanfordu/stanford-question-answering-dataset -p /content\n",
        "  !unzip \\*.zip\n",
        "  !rm -rf /content/dataset/dataset/\n",
        "  !ls"
      ],
      "execution_count": 0,
      "outputs": [
        {
          "output_type": "stream",
          "text": [
            "Requirement already satisfied: kaggle in /usr/local/lib/python3.6/dist-packages (1.5.6)\n",
            "Requirement already satisfied: python-dateutil in /usr/local/lib/python3.6/dist-packages (from kaggle) (2.6.1)\n",
            "Requirement already satisfied: six>=1.10 in /usr/local/lib/python3.6/dist-packages (from kaggle) (1.12.0)\n",
            "Requirement already satisfied: urllib3<1.25,>=1.21.1 in /usr/local/lib/python3.6/dist-packages (from kaggle) (1.24.3)\n",
            "Requirement already satisfied: tqdm in /usr/local/lib/python3.6/dist-packages (from kaggle) (4.28.1)\n",
            "Requirement already satisfied: python-slugify in /usr/local/lib/python3.6/dist-packages (from kaggle) (4.0.0)\n",
            "Requirement already satisfied: certifi in /usr/local/lib/python3.6/dist-packages (from kaggle) (2019.11.28)\n",
            "Requirement already satisfied: requests in /usr/local/lib/python3.6/dist-packages (from kaggle) (2.21.0)\n",
            "Requirement already satisfied: text-unidecode>=1.3 in /usr/local/lib/python3.6/dist-packages (from python-slugify->kaggle) (1.3)\n",
            "Requirement already satisfied: idna<2.9,>=2.5 in /usr/local/lib/python3.6/dist-packages (from requests->kaggle) (2.8)\n",
            "Requirement already satisfied: chardet<3.1.0,>=3.0.2 in /usr/local/lib/python3.6/dist-packages (from requests->kaggle) (3.0.4)\n",
            "- path is now set to: {/content}\n",
            "Downloading stanford-question-answering-dataset.zip to /content\n",
            " 57% 5.00M/8.73M [00:00<00:00, 15.3MB/s]\n",
            "100% 8.73M/8.73M [00:00<00:00, 25.1MB/s]\n",
            "Archive:  stanford-question-answering-dataset.zip\n",
            "  inflating: dev-v1.1.json           \n",
            "  inflating: train-v1.1.json         \n",
            "dev-v1.1.json  stanford-question-answering-dataset.zip\n",
            "sample_data    train-v1.1.json\n"
          ],
          "name": "stdout"
        }
      ]
    },
    {
      "cell_type": "code",
      "metadata": {
        "id": "MzdGy8DQAQDW",
        "colab_type": "code",
        "outputId": "9e0893b1-981e-430a-a372-e984fcd86092",
        "colab": {
          "base_uri": "https://localhost:8080/",
          "height": 137
        }
      },
      "source": [
        "#Set up GPU utility and print confirmation\n",
        "import tensorflow as tf\n",
        "import torch\n",
        "device_name = tf.test.gpu_device_name()\n",
        "if device_name == '/device:GPU:0':\n",
        "  print('GPU confirmed: {}'.format(device_name))\n",
        "else:\n",
        "  raise SystemError(\"No GPU\")\n",
        "\n",
        "if torch.cuda.is_available():\n",
        "  device = torch.device(\"cuda\")\n",
        "  print(\"%d GPU(s) \" % torch.cuda.device_count())\n",
        "  print(\"Using \", torch.cuda.get_device_name(0))\n",
        "\n",
        "else:\n",
        "  print(\"No GPU, defaulting to CPU\")\n",
        "  device = torch.device(\"cpu\")"
      ],
      "execution_count": 0,
      "outputs": [
        {
          "output_type": "display_data",
          "data": {
            "text/html": [
              "<p style=\"color: red;\">\n",
              "The default version of TensorFlow in Colab will soon switch to TensorFlow 2.x.<br>\n",
              "We recommend you <a href=\"https://www.tensorflow.org/guide/migrate\" target=\"_blank\">upgrade</a> now \n",
              "or ensure your notebook will continue to use TensorFlow 1.x via the <code>%tensorflow_version 1.x</code> magic:\n",
              "<a href=\"https://colab.research.google.com/notebooks/tensorflow_version.ipynb\" target=\"_blank\">more info</a>.</p>\n"
            ],
            "text/plain": [
              "<IPython.core.display.HTML object>"
            ]
          },
          "metadata": {
            "tags": []
          }
        },
        {
          "output_type": "stream",
          "text": [
            "GPU confirmed: /device:GPU:0\n",
            "1 GPU(s) \n",
            "Using  Tesla P100-PCIE-16GB\n"
          ],
          "name": "stdout"
        }
      ]
    },
    {
      "cell_type": "code",
      "metadata": {
        "id": "5pSUDYKKG6Ev",
        "colab_type": "code",
        "colab": {}
      },
      "source": [
        "#Obtain inputs\n",
        "import numpy as np\n",
        "import pandas as pd\n",
        "import json\n",
        "from subprocess import check_output"
      ],
      "execution_count": 0,
      "outputs": []
    },
    {
      "cell_type": "code",
      "metadata": {
        "id": "CNls-UtYuLlm",
        "colab_type": "code",
        "outputId": "17405a63-8aca-4236-b2a5-7a3848639892",
        "colab": {
          "base_uri": "https://localhost:8080/",
          "height": 206
        }
      },
      "source": [
        "#data management step 1\n",
        "squad_df = pd.read_json(\"train-v1.1.json\", orient='columns')\n",
        "#Only 2 columns, data includes nested json. More work to organize data \n",
        "squad_df.head()"
      ],
      "execution_count": 0,
      "outputs": [
        {
          "output_type": "execute_result",
          "data": {
            "text/html": [
              "<div>\n",
              "<style scoped>\n",
              "    .dataframe tbody tr th:only-of-type {\n",
              "        vertical-align: middle;\n",
              "    }\n",
              "\n",
              "    .dataframe tbody tr th {\n",
              "        vertical-align: top;\n",
              "    }\n",
              "\n",
              "    .dataframe thead th {\n",
              "        text-align: right;\n",
              "    }\n",
              "</style>\n",
              "<table border=\"1\" class=\"dataframe\">\n",
              "  <thead>\n",
              "    <tr style=\"text-align: right;\">\n",
              "      <th></th>\n",
              "      <th>data</th>\n",
              "      <th>version</th>\n",
              "    </tr>\n",
              "  </thead>\n",
              "  <tbody>\n",
              "    <tr>\n",
              "      <th>0</th>\n",
              "      <td>{'title': 'University_of_Notre_Dame', 'paragra...</td>\n",
              "      <td>1.1</td>\n",
              "    </tr>\n",
              "    <tr>\n",
              "      <th>1</th>\n",
              "      <td>{'title': 'Beyoncé', 'paragraphs': [{'context'...</td>\n",
              "      <td>1.1</td>\n",
              "    </tr>\n",
              "    <tr>\n",
              "      <th>2</th>\n",
              "      <td>{'title': 'Montana', 'paragraphs': [{'context'...</td>\n",
              "      <td>1.1</td>\n",
              "    </tr>\n",
              "    <tr>\n",
              "      <th>3</th>\n",
              "      <td>{'title': 'Genocide', 'paragraphs': [{'context...</td>\n",
              "      <td>1.1</td>\n",
              "    </tr>\n",
              "    <tr>\n",
              "      <th>4</th>\n",
              "      <td>{'title': 'Antibiotics', 'paragraphs': [{'cont...</td>\n",
              "      <td>1.1</td>\n",
              "    </tr>\n",
              "  </tbody>\n",
              "</table>\n",
              "</div>"
            ],
            "text/plain": [
              "                                                data  version\n",
              "0  {'title': 'University_of_Notre_Dame', 'paragra...      1.1\n",
              "1  {'title': 'Beyoncé', 'paragraphs': [{'context'...      1.1\n",
              "2  {'title': 'Montana', 'paragraphs': [{'context'...      1.1\n",
              "3  {'title': 'Genocide', 'paragraphs': [{'context...      1.1\n",
              "4  {'title': 'Antibiotics', 'paragraphs': [{'cont...      1.1"
            ]
          },
          "metadata": {
            "tags": []
          },
          "execution_count": 4
        }
      ]
    },
    {
      "cell_type": "code",
      "metadata": {
        "id": "mnKok_qUxTzJ",
        "colab_type": "code",
        "colab": {}
      },
      "source": [
        "#Define a few functions to sort through the data further \n",
        "def squad_json_to_dataframe_train(input_file_path, record_path = ['data','paragraphs','qas','answers'], verbose = 1):\n",
        "  if verbose:\n",
        "    print(\"Reading json...\")\n",
        "  file = json.loads(open(input_file_path).read())\n",
        "  if verbose:\n",
        "    print(\"Working...\")\n",
        "  js = pd.io.json.json_normalize(file , record_path )\n",
        "  m = pd.io.json.json_normalize(file, record_path[:-1])\n",
        "  r = pd.io.json.json_normalize(file,record_path[:-2])\n",
        "  \n",
        "  idx = np.repeat(r['context'].values, r.qas.str.len())\n",
        "  ndx = np.repeat(m['id'].values, m['answers'].str.len())\n",
        "  m['context'] = idx\n",
        "  js['q_idx'] = ndx\n",
        "  main = pd.concat([m[['id', 'question' , 'context']].set_index('id'),js.set_index('q_idx')], 1, sort=False).reset_index()\n",
        "  main['c_id'] = main['context'].factorize()[0]\n",
        "  if verbose:\n",
        "    print(\"dataframe shape: {}\".format(main.shape))\n",
        "    print(\"Jobs Done\")\n",
        "  return main"
      ],
      "execution_count": 0,
      "outputs": []
    },
    {
      "cell_type": "code",
      "metadata": {
        "id": "zorncsbsJKuf",
        "colab_type": "code",
        "outputId": "c3313f67-9212-4971-8b25-b10325549505",
        "colab": {
          "base_uri": "https://localhost:8080/",
          "height": 293
        }
      },
      "source": [
        "##Another way to handle the json file\n",
        "contexts = []\n",
        "questions = []\n",
        "answers_text = []\n",
        "answers_start = []\n",
        "for i in range(squad_df.shape[0]):\n",
        "    topic = squad_df.iloc[i,0]['paragraphs']\n",
        "    for sub_para in topic:\n",
        "        for q_a in sub_para['qas']:\n",
        "            questions.append(q_a['question'])\n",
        "            answers_text.append(q_a['answers'][0]['text'])\n",
        "            answers_start.append(q_a['answers'][0]['answer_start'])\n",
        "            contexts.append(sub_para['context'])   \n",
        "squad_df2 = pd.DataFrame({\"context\":contexts, \n",
        "                  \"question\": questions, \n",
        "                  \"answer_start\": answers_start, \n",
        "                  \"text\": answers_text})\n",
        "squad_df2.head()"
      ],
      "execution_count": 0,
      "outputs": [
        {
          "output_type": "execute_result",
          "data": {
            "text/html": [
              "<div>\n",
              "<style scoped>\n",
              "    .dataframe tbody tr th:only-of-type {\n",
              "        vertical-align: middle;\n",
              "    }\n",
              "\n",
              "    .dataframe tbody tr th {\n",
              "        vertical-align: top;\n",
              "    }\n",
              "\n",
              "    .dataframe thead th {\n",
              "        text-align: right;\n",
              "    }\n",
              "</style>\n",
              "<table border=\"1\" class=\"dataframe\">\n",
              "  <thead>\n",
              "    <tr style=\"text-align: right;\">\n",
              "      <th></th>\n",
              "      <th>context</th>\n",
              "      <th>question</th>\n",
              "      <th>answer_start</th>\n",
              "      <th>text</th>\n",
              "    </tr>\n",
              "  </thead>\n",
              "  <tbody>\n",
              "    <tr>\n",
              "      <th>0</th>\n",
              "      <td>Architecturally, the school has a Catholic cha...</td>\n",
              "      <td>To whom did the Virgin Mary allegedly appear i...</td>\n",
              "      <td>515</td>\n",
              "      <td>Saint Bernadette Soubirous</td>\n",
              "    </tr>\n",
              "    <tr>\n",
              "      <th>1</th>\n",
              "      <td>Architecturally, the school has a Catholic cha...</td>\n",
              "      <td>What is in front of the Notre Dame Main Building?</td>\n",
              "      <td>188</td>\n",
              "      <td>a copper statue of Christ</td>\n",
              "    </tr>\n",
              "    <tr>\n",
              "      <th>2</th>\n",
              "      <td>Architecturally, the school has a Catholic cha...</td>\n",
              "      <td>The Basilica of the Sacred heart at Notre Dame...</td>\n",
              "      <td>279</td>\n",
              "      <td>the Main Building</td>\n",
              "    </tr>\n",
              "    <tr>\n",
              "      <th>3</th>\n",
              "      <td>Architecturally, the school has a Catholic cha...</td>\n",
              "      <td>What is the Grotto at Notre Dame?</td>\n",
              "      <td>381</td>\n",
              "      <td>a Marian place of prayer and reflection</td>\n",
              "    </tr>\n",
              "    <tr>\n",
              "      <th>4</th>\n",
              "      <td>Architecturally, the school has a Catholic cha...</td>\n",
              "      <td>What sits on top of the Main Building at Notre...</td>\n",
              "      <td>92</td>\n",
              "      <td>a golden statue of the Virgin Mary</td>\n",
              "    </tr>\n",
              "  </tbody>\n",
              "</table>\n",
              "</div>"
            ],
            "text/plain": [
              "                                             context  ...                                     text\n",
              "0  Architecturally, the school has a Catholic cha...  ...               Saint Bernadette Soubirous\n",
              "1  Architecturally, the school has a Catholic cha...  ...                a copper statue of Christ\n",
              "2  Architecturally, the school has a Catholic cha...  ...                        the Main Building\n",
              "3  Architecturally, the school has a Catholic cha...  ...  a Marian place of prayer and reflection\n",
              "4  Architecturally, the school has a Catholic cha...  ...       a golden statue of the Virgin Mary\n",
              "\n",
              "[5 rows x 4 columns]"
            ]
          },
          "metadata": {
            "tags": []
          },
          "execution_count": 6
        }
      ]
    },
    {
      "cell_type": "code",
      "metadata": {
        "id": "abGQqExs1g1X",
        "colab_type": "code",
        "outputId": "c39ea34c-0300-4b23-a1ca-0b58201d4e47",
        "colab": {
          "base_uri": "https://localhost:8080/",
          "height": 90
        }
      },
      "source": [
        "input_file_path = 'train-v1.1.json'\n",
        "record_path = ['data', 'paragraphs', 'qas', 'answers']\n",
        "train = squad_json_to_dataframe_train(input_file_path=input_file_path,record_path=record_path)"
      ],
      "execution_count": 0,
      "outputs": [
        {
          "output_type": "stream",
          "text": [
            "Reading json...\n",
            "Working...\n",
            "dataframe shape: (87599, 6)\n",
            "Jobs Done\n"
          ],
          "name": "stdout"
        }
      ]
    },
    {
      "cell_type": "code",
      "metadata": {
        "id": "qxNk1Yzl6V-g",
        "colab_type": "code",
        "outputId": "1928a0aa-4a8a-4413-c4f1-f1f3fba7c683",
        "colab": {
          "base_uri": "https://localhost:8080/",
          "height": 380
        }
      },
      "source": [
        "train.head()"
      ],
      "execution_count": 0,
      "outputs": [
        {
          "output_type": "execute_result",
          "data": {
            "text/html": [
              "<div>\n",
              "<style scoped>\n",
              "    .dataframe tbody tr th:only-of-type {\n",
              "        vertical-align: middle;\n",
              "    }\n",
              "\n",
              "    .dataframe tbody tr th {\n",
              "        vertical-align: top;\n",
              "    }\n",
              "\n",
              "    .dataframe thead th {\n",
              "        text-align: right;\n",
              "    }\n",
              "</style>\n",
              "<table border=\"1\" class=\"dataframe\">\n",
              "  <thead>\n",
              "    <tr style=\"text-align: right;\">\n",
              "      <th></th>\n",
              "      <th>index</th>\n",
              "      <th>question</th>\n",
              "      <th>context</th>\n",
              "      <th>answer_start</th>\n",
              "      <th>text</th>\n",
              "      <th>c_id</th>\n",
              "    </tr>\n",
              "  </thead>\n",
              "  <tbody>\n",
              "    <tr>\n",
              "      <th>0</th>\n",
              "      <td>5733be284776f41900661182</td>\n",
              "      <td>To whom did the Virgin Mary allegedly appear i...</td>\n",
              "      <td>Architecturally, the school has a Catholic cha...</td>\n",
              "      <td>515</td>\n",
              "      <td>Saint Bernadette Soubirous</td>\n",
              "      <td>0</td>\n",
              "    </tr>\n",
              "    <tr>\n",
              "      <th>1</th>\n",
              "      <td>5733be284776f4190066117f</td>\n",
              "      <td>What is in front of the Notre Dame Main Building?</td>\n",
              "      <td>Architecturally, the school has a Catholic cha...</td>\n",
              "      <td>188</td>\n",
              "      <td>a copper statue of Christ</td>\n",
              "      <td>0</td>\n",
              "    </tr>\n",
              "    <tr>\n",
              "      <th>2</th>\n",
              "      <td>5733be284776f41900661180</td>\n",
              "      <td>The Basilica of the Sacred heart at Notre Dame...</td>\n",
              "      <td>Architecturally, the school has a Catholic cha...</td>\n",
              "      <td>279</td>\n",
              "      <td>the Main Building</td>\n",
              "      <td>0</td>\n",
              "    </tr>\n",
              "    <tr>\n",
              "      <th>3</th>\n",
              "      <td>5733be284776f41900661181</td>\n",
              "      <td>What is the Grotto at Notre Dame?</td>\n",
              "      <td>Architecturally, the school has a Catholic cha...</td>\n",
              "      <td>381</td>\n",
              "      <td>a Marian place of prayer and reflection</td>\n",
              "      <td>0</td>\n",
              "    </tr>\n",
              "    <tr>\n",
              "      <th>4</th>\n",
              "      <td>5733be284776f4190066117e</td>\n",
              "      <td>What sits on top of the Main Building at Notre...</td>\n",
              "      <td>Architecturally, the school has a Catholic cha...</td>\n",
              "      <td>92</td>\n",
              "      <td>a golden statue of the Virgin Mary</td>\n",
              "      <td>0</td>\n",
              "    </tr>\n",
              "  </tbody>\n",
              "</table>\n",
              "</div>"
            ],
            "text/plain": [
              "                      index  ... c_id\n",
              "0  5733be284776f41900661182  ...    0\n",
              "1  5733be284776f4190066117f  ...    0\n",
              "2  5733be284776f41900661180  ...    0\n",
              "3  5733be284776f41900661181  ...    0\n",
              "4  5733be284776f4190066117e  ...    0\n",
              "\n",
              "[5 rows x 6 columns]"
            ]
          },
          "metadata": {
            "tags": []
          },
          "execution_count": 8
        }
      ]
    },
    {
      "cell_type": "code",
      "metadata": {
        "id": "C60Mub48r8Rs",
        "colab_type": "code",
        "outputId": "e2f42ef9-c278-40e1-8859-6c23cbee6c5c",
        "colab": {
          "base_uri": "https://localhost:8080/",
          "height": 182
        }
      },
      "source": [
        "train['c_id'].describe()"
      ],
      "execution_count": 0,
      "outputs": [
        {
          "output_type": "execute_result",
          "data": {
            "text/plain": [
              "count    87599.000000\n",
              "mean      9477.616000\n",
              "std       5495.417059\n",
              "min          0.000000\n",
              "25%       4903.000000\n",
              "50%       9458.000000\n",
              "75%      14245.000000\n",
              "max      18890.000000\n",
              "Name: c_id, dtype: float64"
            ]
          },
          "metadata": {
            "tags": []
          },
          "execution_count": 9
        }
      ]
    },
    {
      "cell_type": "code",
      "metadata": {
        "id": "JE5l9IS03Aep",
        "colab_type": "code",
        "outputId": "3649ed9a-f409-4031-88a7-28160a66bdd5",
        "colab": {
          "base_uri": "https://localhost:8080/",
          "height": 717
        }
      },
      "source": [
        "!pip install transformers"
      ],
      "execution_count": 0,
      "outputs": [
        {
          "output_type": "stream",
          "text": [
            "Collecting transformers\n",
            "\u001b[?25l  Downloading https://files.pythonhosted.org/packages/13/33/ffb67897a6985a7b7d8e5e7878c3628678f553634bd3836404fef06ef19b/transformers-2.5.1-py3-none-any.whl (499kB)\n",
            "\r\u001b[K     |▋                               | 10kB 20.5MB/s eta 0:00:01\r\u001b[K     |█▎                              | 20kB 1.7MB/s eta 0:00:01\r\u001b[K     |██                              | 30kB 2.3MB/s eta 0:00:01\r\u001b[K     |██▋                             | 40kB 1.6MB/s eta 0:00:01\r\u001b[K     |███▎                            | 51kB 1.9MB/s eta 0:00:01\r\u001b[K     |████                            | 61kB 2.2MB/s eta 0:00:01\r\u001b[K     |████▋                           | 71kB 2.4MB/s eta 0:00:01\r\u001b[K     |█████▎                          | 81kB 2.6MB/s eta 0:00:01\r\u001b[K     |██████                          | 92kB 2.9MB/s eta 0:00:01\r\u001b[K     |██████▋                         | 102kB 2.7MB/s eta 0:00:01\r\u001b[K     |███████▏                        | 112kB 2.7MB/s eta 0:00:01\r\u001b[K     |███████▉                        | 122kB 2.7MB/s eta 0:00:01\r\u001b[K     |████████▌                       | 133kB 2.7MB/s eta 0:00:01\r\u001b[K     |█████████▏                      | 143kB 2.7MB/s eta 0:00:01\r\u001b[K     |█████████▉                      | 153kB 2.7MB/s eta 0:00:01\r\u001b[K     |██████████▌                     | 163kB 2.7MB/s eta 0:00:01\r\u001b[K     |███████████▏                    | 174kB 2.7MB/s eta 0:00:01\r\u001b[K     |███████████▉                    | 184kB 2.7MB/s eta 0:00:01\r\u001b[K     |████████████▌                   | 194kB 2.7MB/s eta 0:00:01\r\u001b[K     |█████████████▏                  | 204kB 2.7MB/s eta 0:00:01\r\u001b[K     |█████████████▉                  | 215kB 2.7MB/s eta 0:00:01\r\u001b[K     |██████████████▍                 | 225kB 2.7MB/s eta 0:00:01\r\u001b[K     |███████████████                 | 235kB 2.7MB/s eta 0:00:01\r\u001b[K     |███████████████▊                | 245kB 2.7MB/s eta 0:00:01\r\u001b[K     |████████████████▍               | 256kB 2.7MB/s eta 0:00:01\r\u001b[K     |█████████████████               | 266kB 2.7MB/s eta 0:00:01\r\u001b[K     |█████████████████▊              | 276kB 2.7MB/s eta 0:00:01\r\u001b[K     |██████████████████▍             | 286kB 2.7MB/s eta 0:00:01\r\u001b[K     |███████████████████             | 296kB 2.7MB/s eta 0:00:01\r\u001b[K     |███████████████████▊            | 307kB 2.7MB/s eta 0:00:01\r\u001b[K     |████████████████████▍           | 317kB 2.7MB/s eta 0:00:01\r\u001b[K     |█████████████████████           | 327kB 2.7MB/s eta 0:00:01\r\u001b[K     |█████████████████████▋          | 337kB 2.7MB/s eta 0:00:01\r\u001b[K     |██████████████████████▎         | 348kB 2.7MB/s eta 0:00:01\r\u001b[K     |███████████████████████         | 358kB 2.7MB/s eta 0:00:01\r\u001b[K     |███████████████████████▋        | 368kB 2.7MB/s eta 0:00:01\r\u001b[K     |████████████████████████▎       | 378kB 2.7MB/s eta 0:00:01\r\u001b[K     |█████████████████████████       | 389kB 2.7MB/s eta 0:00:01\r\u001b[K     |█████████████████████████▋      | 399kB 2.7MB/s eta 0:00:01\r\u001b[K     |██████████████████████████▎     | 409kB 2.7MB/s eta 0:00:01\r\u001b[K     |███████████████████████████     | 419kB 2.7MB/s eta 0:00:01\r\u001b[K     |███████████████████████████▋    | 430kB 2.7MB/s eta 0:00:01\r\u001b[K     |████████████████████████████▏   | 440kB 2.7MB/s eta 0:00:01\r\u001b[K     |████████████████████████████▉   | 450kB 2.7MB/s eta 0:00:01\r\u001b[K     |█████████████████████████████▌  | 460kB 2.7MB/s eta 0:00:01\r\u001b[K     |██████████████████████████████▏ | 471kB 2.7MB/s eta 0:00:01\r\u001b[K     |██████████████████████████████▉ | 481kB 2.7MB/s eta 0:00:01\r\u001b[K     |███████████████████████████████▌| 491kB 2.7MB/s eta 0:00:01\r\u001b[K     |████████████████████████████████| 501kB 2.7MB/s \n",
            "\u001b[?25hRequirement already satisfied: tqdm>=4.27 in /usr/local/lib/python3.6/dist-packages (from transformers) (4.28.1)\n",
            "Collecting sacremoses\n",
            "\u001b[?25l  Downloading https://files.pythonhosted.org/packages/a6/b4/7a41d630547a4afd58143597d5a49e07bfd4c42914d8335b2a5657efc14b/sacremoses-0.0.38.tar.gz (860kB)\n",
            "\r\u001b[K     |▍                               | 10kB 30.8MB/s eta 0:00:01\r\u001b[K     |▊                               | 20kB 24.3MB/s eta 0:00:01\r\u001b[K     |█▏                              | 30kB 30.7MB/s eta 0:00:01\r\u001b[K     |█▌                              | 40kB 15.8MB/s eta 0:00:01\r\u001b[K     |██                              | 51kB 14.5MB/s eta 0:00:01\r\u001b[K     |██▎                             | 61kB 16.7MB/s eta 0:00:01\r\u001b[K     |██▋                             | 71kB 13.5MB/s eta 0:00:01\r\u001b[K     |███                             | 81kB 11.2MB/s eta 0:00:01\r\u001b[K     |███▍                            | 92kB 12.4MB/s eta 0:00:01\r\u001b[K     |███▉                            | 102kB 12.3MB/s eta 0:00:01\r\u001b[K     |████▏                           | 112kB 12.3MB/s eta 0:00:01\r\u001b[K     |████▋                           | 122kB 12.3MB/s eta 0:00:01\r\u001b[K     |█████                           | 133kB 12.3MB/s eta 0:00:01\r\u001b[K     |█████▎                          | 143kB 12.3MB/s eta 0:00:01\r\u001b[K     |█████▊                          | 153kB 12.3MB/s eta 0:00:01\r\u001b[K     |██████                          | 163kB 12.3MB/s eta 0:00:01\r\u001b[K     |██████▌                         | 174kB 12.3MB/s eta 0:00:01\r\u001b[K     |██████▉                         | 184kB 12.3MB/s eta 0:00:01\r\u001b[K     |███████▎                        | 194kB 12.3MB/s eta 0:00:01\r\u001b[K     |███████▋                        | 204kB 12.3MB/s eta 0:00:01\r\u001b[K     |████████                        | 215kB 12.3MB/s eta 0:00:01\r\u001b[K     |████████▍                       | 225kB 12.3MB/s eta 0:00:01\r\u001b[K     |████████▊                       | 235kB 12.3MB/s eta 0:00:01\r\u001b[K     |█████████▏                      | 245kB 12.3MB/s eta 0:00:01\r\u001b[K     |█████████▌                      | 256kB 12.3MB/s eta 0:00:01\r\u001b[K     |██████████                      | 266kB 12.3MB/s eta 0:00:01\r\u001b[K     |██████████▎                     | 276kB 12.3MB/s eta 0:00:01\r\u001b[K     |██████████▋                     | 286kB 12.3MB/s eta 0:00:01\r\u001b[K     |███████████                     | 296kB 12.3MB/s eta 0:00:01\r\u001b[K     |███████████▍                    | 307kB 12.3MB/s eta 0:00:01\r\u001b[K     |███████████▉                    | 317kB 12.3MB/s eta 0:00:01\r\u001b[K     |████████████▏                   | 327kB 12.3MB/s eta 0:00:01\r\u001b[K     |████████████▋                   | 337kB 12.3MB/s eta 0:00:01\r\u001b[K     |█████████████                   | 348kB 12.3MB/s eta 0:00:01\r\u001b[K     |█████████████▎                  | 358kB 12.3MB/s eta 0:00:01\r\u001b[K     |█████████████▊                  | 368kB 12.3MB/s eta 0:00:01\r\u001b[K     |██████████████                  | 378kB 12.3MB/s eta 0:00:01\r\u001b[K     |██████████████▌                 | 389kB 12.3MB/s eta 0:00:01\r\u001b[K     |██████████████▉                 | 399kB 12.3MB/s eta 0:00:01\r\u001b[K     |███████████████▎                | 409kB 12.3MB/s eta 0:00:01\r\u001b[K     |███████████████▋                | 419kB 12.3MB/s eta 0:00:01\r\u001b[K     |████████████████                | 430kB 12.3MB/s eta 0:00:01\r\u001b[K     |████████████████▍               | 440kB 12.3MB/s eta 0:00:01\r\u001b[K     |████████████████▊               | 450kB 12.3MB/s eta 0:00:01\r\u001b[K     |█████████████████▏              | 460kB 12.3MB/s eta 0:00:01\r\u001b[K     |█████████████████▌              | 471kB 12.3MB/s eta 0:00:01\r\u001b[K     |██████████████████              | 481kB 12.3MB/s eta 0:00:01\r\u001b[K     |██████████████████▎             | 491kB 12.3MB/s eta 0:00:01\r\u001b[K     |██████████████████▋             | 501kB 12.3MB/s eta 0:00:01\r\u001b[K     |███████████████████             | 512kB 12.3MB/s eta 0:00:01\r\u001b[K     |███████████████████▍            | 522kB 12.3MB/s eta 0:00:01\r\u001b[K     |███████████████████▉            | 532kB 12.3MB/s eta 0:00:01\r\u001b[K     |████████████████████▏           | 542kB 12.3MB/s eta 0:00:01\r\u001b[K     |████████████████████▋           | 552kB 12.3MB/s eta 0:00:01\r\u001b[K     |█████████████████████           | 563kB 12.3MB/s eta 0:00:01\r\u001b[K     |█████████████████████▎          | 573kB 12.3MB/s eta 0:00:01\r\u001b[K     |█████████████████████▊          | 583kB 12.3MB/s eta 0:00:01\r\u001b[K     |██████████████████████          | 593kB 12.3MB/s eta 0:00:01\r\u001b[K     |██████████████████████▌         | 604kB 12.3MB/s eta 0:00:01\r\u001b[K     |██████████████████████▉         | 614kB 12.3MB/s eta 0:00:01\r\u001b[K     |███████████████████████▏        | 624kB 12.3MB/s eta 0:00:01\r\u001b[K     |███████████████████████▋        | 634kB 12.3MB/s eta 0:00:01\r\u001b[K     |████████████████████████        | 645kB 12.3MB/s eta 0:00:01\r\u001b[K     |████████████████████████▍       | 655kB 12.3MB/s eta 0:00:01\r\u001b[K     |████████████████████████▊       | 665kB 12.3MB/s eta 0:00:01\r\u001b[K     |█████████████████████████▏      | 675kB 12.3MB/s eta 0:00:01\r\u001b[K     |█████████████████████████▌      | 686kB 12.3MB/s eta 0:00:01\r\u001b[K     |█████████████████████████▉      | 696kB 12.3MB/s eta 0:00:01\r\u001b[K     |██████████████████████████▎     | 706kB 12.3MB/s eta 0:00:01\r\u001b[K     |██████████████████████████▋     | 716kB 12.3MB/s eta 0:00:01\r\u001b[K     |███████████████████████████     | 727kB 12.3MB/s eta 0:00:01\r\u001b[K     |███████████████████████████▍    | 737kB 12.3MB/s eta 0:00:01\r\u001b[K     |███████████████████████████▉    | 747kB 12.3MB/s eta 0:00:01\r\u001b[K     |████████████████████████████▏   | 757kB 12.3MB/s eta 0:00:01\r\u001b[K     |████████████████████████████▌   | 768kB 12.3MB/s eta 0:00:01\r\u001b[K     |█████████████████████████████   | 778kB 12.3MB/s eta 0:00:01\r\u001b[K     |█████████████████████████████▎  | 788kB 12.3MB/s eta 0:00:01\r\u001b[K     |█████████████████████████████▊  | 798kB 12.3MB/s eta 0:00:01\r\u001b[K     |██████████████████████████████  | 808kB 12.3MB/s eta 0:00:01\r\u001b[K     |██████████████████████████████▌ | 819kB 12.3MB/s eta 0:00:01\r\u001b[K     |██████████████████████████████▉ | 829kB 12.3MB/s eta 0:00:01\r\u001b[K     |███████████████████████████████▏| 839kB 12.3MB/s eta 0:00:01\r\u001b[K     |███████████████████████████████▋| 849kB 12.3MB/s eta 0:00:01\r\u001b[K     |████████████████████████████████| 860kB 12.3MB/s eta 0:00:01\r\u001b[K     |████████████████████████████████| 870kB 12.3MB/s \n",
            "\u001b[?25hCollecting tokenizers==0.5.2\n",
            "\u001b[?25l  Downloading https://files.pythonhosted.org/packages/d1/3f/73c881ea4723e43c1e9acf317cf407fab3a278daab3a69c98dcac511c04f/tokenizers-0.5.2-cp36-cp36m-manylinux1_x86_64.whl (3.7MB)\n",
            "\u001b[K     |████████████████████████████████| 3.7MB 30kB/s \n",
            "\u001b[?25hCollecting sentencepiece\n",
            "\u001b[?25l  Downloading https://files.pythonhosted.org/packages/74/f4/2d5214cbf13d06e7cb2c20d84115ca25b53ea76fa1f0ade0e3c9749de214/sentencepiece-0.1.85-cp36-cp36m-manylinux1_x86_64.whl (1.0MB)\n",
            "\u001b[K     |████████████████████████████████| 1.0MB 40.2MB/s \n",
            "\u001b[?25hRequirement already satisfied: filelock in /usr/local/lib/python3.6/dist-packages (from transformers) (3.0.12)\n",
            "Requirement already satisfied: boto3 in /usr/local/lib/python3.6/dist-packages (from transformers) (1.11.15)\n",
            "Requirement already satisfied: requests in /usr/local/lib/python3.6/dist-packages (from transformers) (2.21.0)\n",
            "Requirement already satisfied: regex!=2019.12.17 in /usr/local/lib/python3.6/dist-packages (from transformers) (2019.12.20)\n",
            "Requirement already satisfied: numpy in /usr/local/lib/python3.6/dist-packages (from transformers) (1.17.5)\n",
            "Requirement already satisfied: six in /usr/local/lib/python3.6/dist-packages (from sacremoses->transformers) (1.12.0)\n",
            "Requirement already satisfied: click in /usr/local/lib/python3.6/dist-packages (from sacremoses->transformers) (7.0)\n",
            "Requirement already satisfied: joblib in /usr/local/lib/python3.6/dist-packages (from sacremoses->transformers) (0.14.1)\n",
            "Requirement already satisfied: s3transfer<0.4.0,>=0.3.0 in /usr/local/lib/python3.6/dist-packages (from boto3->transformers) (0.3.3)\n",
            "Requirement already satisfied: jmespath<1.0.0,>=0.7.1 in /usr/local/lib/python3.6/dist-packages (from boto3->transformers) (0.9.4)\n",
            "Requirement already satisfied: botocore<1.15.0,>=1.14.15 in /usr/local/lib/python3.6/dist-packages (from boto3->transformers) (1.14.15)\n",
            "Requirement already satisfied: certifi>=2017.4.17 in /usr/local/lib/python3.6/dist-packages (from requests->transformers) (2019.11.28)\n",
            "Requirement already satisfied: urllib3<1.25,>=1.21.1 in /usr/local/lib/python3.6/dist-packages (from requests->transformers) (1.24.3)\n",
            "Requirement already satisfied: chardet<3.1.0,>=3.0.2 in /usr/local/lib/python3.6/dist-packages (from requests->transformers) (3.0.4)\n",
            "Requirement already satisfied: idna<2.9,>=2.5 in /usr/local/lib/python3.6/dist-packages (from requests->transformers) (2.8)\n",
            "Requirement already satisfied: docutils<0.16,>=0.10 in /usr/local/lib/python3.6/dist-packages (from botocore<1.15.0,>=1.14.15->boto3->transformers) (0.15.2)\n",
            "Requirement already satisfied: python-dateutil<3.0.0,>=2.1 in /usr/local/lib/python3.6/dist-packages (from botocore<1.15.0,>=1.14.15->boto3->transformers) (2.6.1)\n",
            "Building wheels for collected packages: sacremoses\n",
            "  Building wheel for sacremoses (setup.py) ... \u001b[?25l\u001b[?25hdone\n",
            "  Created wheel for sacremoses: filename=sacremoses-0.0.38-cp36-none-any.whl size=884628 sha256=51ae50ed39e517646f16da7fcce32a9794ef37e190f1977ab6d62b7f701a95ff\n",
            "  Stored in directory: /root/.cache/pip/wheels/6d/ec/1a/21b8912e35e02741306f35f66c785f3afe94de754a0eaf1422\n",
            "Successfully built sacremoses\n",
            "Installing collected packages: sacremoses, tokenizers, sentencepiece, transformers\n",
            "Successfully installed sacremoses-0.0.38 sentencepiece-0.1.85 tokenizers-0.5.2 transformers-2.5.1\n"
          ],
          "name": "stdout"
        }
      ]
    },
    {
      "cell_type": "code",
      "metadata": {
        "id": "U3Xhc5NfQbrJ",
        "colab_type": "code",
        "outputId": "a2cc69f6-c729-4b1e-f0ae-18b8ba1eaf8a",
        "colab": {
          "base_uri": "https://localhost:8080/",
          "height": 168,
          "referenced_widgets": [
            "593c28eb47964f02b21b8f31850d0252",
            "90a22dcf17514f68a9bb9ed2dfaae2aa",
            "283cb233c12845e6b517e8282efe1d38",
            "fcda87a8d4504d05b20648a5c7241f56",
            "4b3c58c502fb432590f0ce2226d0fa3b",
            "ef9cf830cbe44feeb4dfcc87270c074e",
            "de7fc42f97524d1ab540777d101657e1",
            "eeaff867bb9244fcaeba6b8eb2dd4d33",
            "1d3bdbc137d74d998734854419a949e9",
            "6ee466a0908848b986ddcb4e025cc81d",
            "45762347ad224e9184ef55e783871a12",
            "22b342360b214ddda2d9fff5a6684e80",
            "19cb87de71674e4397245c4cf29b97e8",
            "b7d3f6e260904a8fa5ba4395f801f6c7",
            "a829c3d8c3084548adbcc810c24f7d6c",
            "005fe99500a64e2691e46737d3f08d0d",
            "95b3571154f54fe4849741611e4198f3",
            "e6c2e48e9e24435a8c285c4d72d6af31",
            "a20d52b344184692b85bcfc93b948668",
            "1d26cb3b9a314cce87f96eca2c1c8fa2",
            "fdc0262af25840c8a17f53e967d3c932",
            "4fbf9ac739dc467f9e3175696f6c9106",
            "33a5d12db34c46a691fb34b91e30e571",
            "71fcd9c43c264bf48ff7da5a152667ee"
          ]
        }
      },
      "source": [
        "import torch\n",
        "from transformers import BertTokenizer, BertForQuestionAnswering\n",
        "\n",
        "tokenizer = BertTokenizer.from_pretrained('bert-base-uncased')\n",
        "model = BertForQuestionAnswering.from_pretrained('bert-large-uncased-whole-word-masking-finetuned-squad')\n",
        "\n",
        "question = train[['question']].copy()\n",
        "text = train[['text']].copy()\n",
        "#input_ids = tokenizer.encode(question, text)\n",
        "#token_type_ids = [0 if i <= input_ids.index(102) else 1 for i in range(len(input_ids))]\n",
        "#start_scores, end_scores = model(torch.tensor([input_ids]), token_type_ids=torch.tensor([token_type_ids]))\n",
        "\n",
        "#all_tokens = tokenizer.convert_ids_to_tokens(input_ids)\n",
        "#answer = ' '.join(all_tokens[torch.argmax(start_scores) : torch.argmax(end_scores)+1])\n",
        "\n",
        "#assert answer == \"asserted answer\""
      ],
      "execution_count": 0,
      "outputs": [
        {
          "output_type": "display_data",
          "data": {
            "application/vnd.jupyter.widget-view+json": {
              "model_id": "593c28eb47964f02b21b8f31850d0252",
              "version_minor": 0,
              "version_major": 2
            },
            "text/plain": [
              "HBox(children=(IntProgress(value=0, description='Downloading', max=231508, style=ProgressStyle(description_wid…"
            ]
          },
          "metadata": {
            "tags": []
          }
        },
        {
          "output_type": "stream",
          "text": [
            "\n"
          ],
          "name": "stdout"
        },
        {
          "output_type": "display_data",
          "data": {
            "application/vnd.jupyter.widget-view+json": {
              "model_id": "1d3bdbc137d74d998734854419a949e9",
              "version_minor": 0,
              "version_major": 2
            },
            "text/plain": [
              "HBox(children=(IntProgress(value=0, description='Downloading', max=398, style=ProgressStyle(description_width=…"
            ]
          },
          "metadata": {
            "tags": []
          }
        },
        {
          "output_type": "stream",
          "text": [
            "\n"
          ],
          "name": "stdout"
        },
        {
          "output_type": "display_data",
          "data": {
            "application/vnd.jupyter.widget-view+json": {
              "model_id": "95b3571154f54fe4849741611e4198f3",
              "version_minor": 0,
              "version_major": 2
            },
            "text/plain": [
              "HBox(children=(IntProgress(value=0, description='Downloading', max=1340675298, style=ProgressStyle(description…"
            ]
          },
          "metadata": {
            "tags": []
          }
        },
        {
          "output_type": "stream",
          "text": [
            "\n"
          ],
          "name": "stdout"
        }
      ]
    },
    {
      "cell_type": "code",
      "metadata": {
        "id": "blqIvQaQncdJ",
        "colab_type": "code",
        "outputId": "638c5c0a-5e5b-42ac-98a9-b0f7e2713b35",
        "colab": {
          "base_uri": "https://localhost:8080/",
          "height": 206
        }
      },
      "source": [
        "q_and_a = train[['question', 'text']].copy()\n",
        "q_and_a.head()"
      ],
      "execution_count": 0,
      "outputs": [
        {
          "output_type": "execute_result",
          "data": {
            "text/html": [
              "<div>\n",
              "<style scoped>\n",
              "    .dataframe tbody tr th:only-of-type {\n",
              "        vertical-align: middle;\n",
              "    }\n",
              "\n",
              "    .dataframe tbody tr th {\n",
              "        vertical-align: top;\n",
              "    }\n",
              "\n",
              "    .dataframe thead th {\n",
              "        text-align: right;\n",
              "    }\n",
              "</style>\n",
              "<table border=\"1\" class=\"dataframe\">\n",
              "  <thead>\n",
              "    <tr style=\"text-align: right;\">\n",
              "      <th></th>\n",
              "      <th>question</th>\n",
              "      <th>text</th>\n",
              "    </tr>\n",
              "  </thead>\n",
              "  <tbody>\n",
              "    <tr>\n",
              "      <th>0</th>\n",
              "      <td>To whom did the Virgin Mary allegedly appear i...</td>\n",
              "      <td>Saint Bernadette Soubirous</td>\n",
              "    </tr>\n",
              "    <tr>\n",
              "      <th>1</th>\n",
              "      <td>What is in front of the Notre Dame Main Building?</td>\n",
              "      <td>a copper statue of Christ</td>\n",
              "    </tr>\n",
              "    <tr>\n",
              "      <th>2</th>\n",
              "      <td>The Basilica of the Sacred heart at Notre Dame...</td>\n",
              "      <td>the Main Building</td>\n",
              "    </tr>\n",
              "    <tr>\n",
              "      <th>3</th>\n",
              "      <td>What is the Grotto at Notre Dame?</td>\n",
              "      <td>a Marian place of prayer and reflection</td>\n",
              "    </tr>\n",
              "    <tr>\n",
              "      <th>4</th>\n",
              "      <td>What sits on top of the Main Building at Notre...</td>\n",
              "      <td>a golden statue of the Virgin Mary</td>\n",
              "    </tr>\n",
              "  </tbody>\n",
              "</table>\n",
              "</div>"
            ],
            "text/plain": [
              "                                            question                                     text\n",
              "0  To whom did the Virgin Mary allegedly appear i...               Saint Bernadette Soubirous\n",
              "1  What is in front of the Notre Dame Main Building?                a copper statue of Christ\n",
              "2  The Basilica of the Sacred heart at Notre Dame...                        the Main Building\n",
              "3                  What is the Grotto at Notre Dame?  a Marian place of prayer and reflection\n",
              "4  What sits on top of the Main Building at Notre...       a golden statue of the Virgin Mary"
            ]
          },
          "metadata": {
            "tags": []
          },
          "execution_count": 12
        }
      ]
    },
    {
      "cell_type": "code",
      "metadata": {
        "colab_type": "code",
        "id": "DrSNciAj9OyQ",
        "outputId": "6f9b5008-7944-4e9e-b8e3-70e718ea7f12",
        "colab": {
          "base_uri": "https://localhost:8080/",
          "height": 441
        }
      },
      "source": [
        "#This Transformers package is a pytorch interface for working with BERT\n",
        "!pip install transformers"
      ],
      "execution_count": 0,
      "outputs": [
        {
          "output_type": "stream",
          "text": [
            "Requirement already satisfied: transformers in /usr/local/lib/python3.6/dist-packages (2.5.1)\n",
            "Requirement already satisfied: filelock in /usr/local/lib/python3.6/dist-packages (from transformers) (3.0.12)\n",
            "Requirement already satisfied: boto3 in /usr/local/lib/python3.6/dist-packages (from transformers) (1.11.15)\n",
            "Requirement already satisfied: regex!=2019.12.17 in /usr/local/lib/python3.6/dist-packages (from transformers) (2019.12.20)\n",
            "Requirement already satisfied: numpy in /usr/local/lib/python3.6/dist-packages (from transformers) (1.17.5)\n",
            "Requirement already satisfied: tokenizers==0.5.2 in /usr/local/lib/python3.6/dist-packages (from transformers) (0.5.2)\n",
            "Requirement already satisfied: tqdm>=4.27 in /usr/local/lib/python3.6/dist-packages (from transformers) (4.28.1)\n",
            "Requirement already satisfied: sacremoses in /usr/local/lib/python3.6/dist-packages (from transformers) (0.0.38)\n",
            "Requirement already satisfied: sentencepiece in /usr/local/lib/python3.6/dist-packages (from transformers) (0.1.85)\n",
            "Requirement already satisfied: requests in /usr/local/lib/python3.6/dist-packages (from transformers) (2.21.0)\n",
            "Requirement already satisfied: botocore<1.15.0,>=1.14.15 in /usr/local/lib/python3.6/dist-packages (from boto3->transformers) (1.14.15)\n",
            "Requirement already satisfied: jmespath<1.0.0,>=0.7.1 in /usr/local/lib/python3.6/dist-packages (from boto3->transformers) (0.9.4)\n",
            "Requirement already satisfied: s3transfer<0.4.0,>=0.3.0 in /usr/local/lib/python3.6/dist-packages (from boto3->transformers) (0.3.3)\n",
            "Requirement already satisfied: click in /usr/local/lib/python3.6/dist-packages (from sacremoses->transformers) (7.0)\n",
            "Requirement already satisfied: six in /usr/local/lib/python3.6/dist-packages (from sacremoses->transformers) (1.12.0)\n",
            "Requirement already satisfied: joblib in /usr/local/lib/python3.6/dist-packages (from sacremoses->transformers) (0.14.1)\n",
            "Requirement already satisfied: chardet<3.1.0,>=3.0.2 in /usr/local/lib/python3.6/dist-packages (from requests->transformers) (3.0.4)\n",
            "Requirement already satisfied: certifi>=2017.4.17 in /usr/local/lib/python3.6/dist-packages (from requests->transformers) (2019.11.28)\n",
            "Requirement already satisfied: urllib3<1.25,>=1.21.1 in /usr/local/lib/python3.6/dist-packages (from requests->transformers) (1.24.3)\n",
            "Requirement already satisfied: idna<2.9,>=2.5 in /usr/local/lib/python3.6/dist-packages (from requests->transformers) (2.8)\n",
            "Requirement already satisfied: python-dateutil<3.0.0,>=2.1 in /usr/local/lib/python3.6/dist-packages (from botocore<1.15.0,>=1.14.15->boto3->transformers) (2.6.1)\n",
            "Requirement already satisfied: docutils<0.16,>=0.10 in /usr/local/lib/python3.6/dist-packages (from botocore<1.15.0,>=1.14.15->boto3->transformers) (0.15.2)\n"
          ],
          "name": "stdout"
        }
      ]
    },
    {
      "cell_type": "code",
      "metadata": {
        "id": "DRTNpOopaQCA",
        "colab_type": "code",
        "colab": {}
      },
      "source": [
        "from transformers import BertTokenizer\n",
        "# bert-base-uncased\n",
        "# 12-layer, 768-hidden, 12-heads, 110M parameters.\n",
        "# Trained on lower-cased English text.\n",
        "\n",
        "# bert-large-uncased\n",
        "# 24-layer, 1024-hidden, 16-heads, 340M parameters.\n",
        "# Trained on lower-cased English text.\n",
        "\n",
        "# bert-base-cased\n",
        "# 12-layer, 768-hidden, 12-heads, 110M parameters.\n",
        "# Trained on cased English text.\n",
        "\n",
        "# bert-large-cased\n",
        "# 24-layer, 1024-hidden, 16-heads, 340M parameters.\n",
        "# Trained on cased English text.\n",
        "tokenizer = BertTokenizer.from_pretrained('bert-base-uncased', do_lower_case=True)\n"
      ],
      "execution_count": 0,
      "outputs": []
    },
    {
      "cell_type": "code",
      "metadata": {
        "id": "Q4ct4w9hyKso",
        "colab_type": "code",
        "colab": {}
      },
      "source": [
        "#Visual Education\n",
        "print(\"Original: \", sentences[0])\n",
        "print(\"Tokenized: \", tokenizer.tokenize(sentences[0]))\n",
        "print(\"Token IDs: \", tokenizer.convert_tokens_to_ids(tokenizer.tokenize(sentences[0])))"
      ],
      "execution_count": 0,
      "outputs": []
    },
    {
      "cell_type": "code",
      "metadata": {
        "id": "HxPwP33sBeNS",
        "colab_type": "code",
        "colab": {}
      },
      "source": [
        "print(contexts[0])\n",
        "print(tokenizer.tokenize(contexts[0])) \n",
        "print(tokenizer.tokenize(questions[0]))\n",
        "print(tokenizer.tokenize(answers_text[0]))"
      ],
      "execution_count": 0,
      "outputs": []
    },
    {
      "cell_type": "code",
      "metadata": {
        "id": "uvoQfrmkEH5W",
        "colab_type": "code",
        "colab": {}
      },
      "source": [
        "squad_q_input_ids = []\n",
        "for each_sent in questions:\n",
        "  encoded = tokenizer.encode(each_sent, add_special_tokens = True)\n",
        "  squad_q_input_ids.append(encoded)\n",
        "\n",
        "print(questions[0])\n",
        "print(squad_q_input_ids[0])"
      ],
      "execution_count": 0,
      "outputs": []
    },
    {
      "cell_type": "code",
      "metadata": {
        "id": "TV1V2zkmHO-r",
        "colab_type": "code",
        "colab": {}
      },
      "source": [
        "from keras.preprocessing.sequence import pad_sequences\n",
        "# Combined below\n",
        "# def set_input_id(collection):\n",
        "#   input_ids = []\n",
        "#   for sent in collection:\n",
        "#     encoded_sentences = tokenizer.encode(sent, add_special_tokens = True)\n",
        "#     input_ids.append(encoded_sentences)\n",
        "#   return input_ids\n",
        "\n",
        "# encode_qs = set_input_id(questions)\n",
        "# encode_a =  set_input_id(answers_text)\n",
        "# encode_c =  set_input_id(contexts)\n",
        "\n",
        "def set_id_padding(collection):\n",
        "  input_ids = []\n",
        "  for sent in collection:\n",
        "    encoded_sentences = tokenizer.encode(sent, add_special_tokens = True)\n",
        "    input_ids.append(encoded_sentences)\n",
        "  \n",
        "  MAX_LENGTH = max([len(sen) for sen in input_ids])\n",
        "  input_ids = pad_sequences(input_ids, \n",
        "                            maxlen=MAX_LENGTH, \n",
        "                            dtype=\"long\", \n",
        "                            value=0, \n",
        "                            truncating=\"post\", \n",
        "                            padding=\"post\")\n",
        "  return input_ids\n",
        "\n",
        "pad_encode_qs = set_id_padding(questions)\n",
        "pad_encode_a =  set_id_padding(answers_text)\n",
        "#pad_encode_c =  set_id_padding(contexts)\n",
        "print(\"Done\")"
      ],
      "execution_count": 0,
      "outputs": []
    },
    {
      "cell_type": "code",
      "metadata": {
        "id": "oCyBkM5zfIxu",
        "colab_type": "code",
        "colab": {}
      },
      "source": [
        "\n",
        "###Left off Here Working on padding the q_a\n",
        "def set_padding(collection):\n",
        "\n",
        "  MAX_LENGTH = max([len(sen) for sen in collection])\n",
        "  for sent in collection:\n",
        "    padded = pad_sequences(sent,\n",
        "                           maxlen=MAX_LENGTH, \n",
        "                           dtype=\"long\", \n",
        "                           value=0, \n",
        "                           truncating=\"post\", \n",
        "                           padding=\"post\")\n",
        "  return padded\n",
        "pad_question = set_padding(questions)\n",
        "pad_answers = set_padding(answers_text)"
      ],
      "execution_count": 0,
      "outputs": []
    },
    {
      "cell_type": "code",
      "metadata": {
        "id": "VUUw_m0ZIWpN",
        "colab_type": "code",
        "colab": {}
      },
      "source": [
        "print(questions[0])\n",
        "print(pad_answers_text[0])\n",
        "print(\"#Encoded\",encode_qs[0])\n",
        "print(\"#Encoded and padded\",pad_encode_qs[0])\n",
        "print(answers_text[0])\n",
        "print(pad_answers_text[0])\n",
        "print(\"#Encoded\",encode_a[0])\n",
        "print(\"#Encoded and padded\",pad_encode_a[0])\n",
        "\n",
        "# print(contexts[0])\n",
        "# print(\"#Encoded\",encode_c[0])\n",
        "# print(\"#Encoded\",pad_encode_c[0])"
      ],
      "execution_count": 0,
      "outputs": []
    },
    {
      "cell_type": "code",
      "metadata": {
        "id": "f15IN5xVeIJV",
        "colab_type": "code",
        "colab": {}
      },
      "source": [
        "#Cola encoding\n",
        "input_ids = []\n",
        "for each_sent in sentences:\n",
        "  encoded_sentences = tokenizer.encode(each_sent, add_special_tokens = True) \n",
        "  input_ids.append(encoded_sentences)\n",
        "#Visual Education\n",
        "print('Original: ', sentences[0])\n",
        "print('TokenIDs: ', input_ids[0])"
      ],
      "execution_count": 0,
      "outputs": []
    },
    {
      "cell_type": "code",
      "metadata": {
        "id": "prRdS_z_rCdy",
        "colab_type": "code",
        "colab": {}
      },
      "source": [
        "#Add Padding for CoLA. Ensure size is equal across the board for all tensors. \n",
        "MAX_LENGTH = max([len(sen) for sen in input_ids])\n",
        "input_ids = pad_sequences(input_ids, \n",
        "                          maxlen=MAX_LENGTH, \n",
        "                          dtype=\"long\", \n",
        "                          value=0, \n",
        "                          truncating=\"post\", \n",
        "                          padding=\"post\")"
      ],
      "execution_count": 0,
      "outputs": []
    },
    {
      "cell_type": "code",
      "metadata": {
        "id": "tjI5LJ8ttQQR",
        "colab_type": "code",
        "colab": {}
      },
      "source": [
        "#Atten masks helps ensure padding is recognized by the BERT model to be padding. \n",
        "attn_masks = []\n",
        "for sent in input_ids:\n",
        "  attn_mask = [int(token_id > 0) for token_id in sent]\n",
        "  attn_masks.append(attn_mask)"
      ],
      "execution_count": 0,
      "outputs": []
    },
    {
      "cell_type": "code",
      "metadata": {
        "id": "D4rCSieRt5iY",
        "colab_type": "code",
        "colab": {}
      },
      "source": [
        "#Train Test Split.\n",
        "from sklearn.model_selection import train_test_split\n",
        "train_inputs, val_inputs, train_labels, val_labels = train_test_split(\n",
        "  input_ids, \n",
        "  label, \n",
        "  random_state=888, \n",
        "  test_size=.7)\n",
        "#same for masks, and blanks because we cant use train, test, spit into 3\n",
        "train_masks, val_masks, _, _ = train_test_split(\n",
        "    attn_masks, \n",
        "    label, \n",
        "    random_state=888, \n",
        "    test_size=.7)"
      ],
      "execution_count": 0,
      "outputs": []
    },
    {
      "cell_type": "code",
      "metadata": {
        "id": "q0KPGBKfxYX7",
        "colab_type": "code",
        "colab": {}
      },
      "source": [
        "train_labels = torch.tensor(train_labels)\n",
        "train_inputs = torch.tensor(train_inputs)\n",
        "train_masks = torch.tensor(train_masks)\n",
        "\n",
        "val_labels = torch.tensor(val_labels)\n",
        "val_inputs = torch.tensor(val_inputs)\n",
        "val_masks = torch.tensor(val_masks)"
      ],
      "execution_count": 0,
      "outputs": []
    },
    {
      "cell_type": "markdown",
      "metadata": {
        "id": "AUiI4W5W-f3L",
        "colab_type": "text"
      },
      "source": [
        "Revisit these areas below in more depth\n"
      ]
    },
    {
      "cell_type": "code",
      "metadata": {
        "id": "BwDteI5LpEHn",
        "colab_type": "code",
        "colab": {}
      },
      "source": [
        "from torch.utils.data import TensorDataset, DataLoader, RandomSampler, SequentialSampler\n",
        "batch_size = 16 #No more than 32\n",
        "train_data = TensorDataset(train_inputs, train_masks, train_labels)\n",
        "train_sampler = RandomSampler(train_data)\n",
        "train_dataloader = DataLoader(train_data, sampler=train_sampler, batch_size=batch_size)\n",
        "\n",
        "val_data = TensorDataset(val_inputs, val_masks, val_labels)\n",
        "val_sampler = SequentialSampler(val_data)\n",
        "val_dataloader = DataLoader(val_data, sampler=val_sampler, batch_size=batch_size)"
      ],
      "execution_count": 0,
      "outputs": []
    },
    {
      "cell_type": "code",
      "metadata": {
        "id": "yYYtpcQ4PAt3",
        "colab_type": "code",
        "colab": {}
      },
      "source": [
        ""
      ],
      "execution_count": 0,
      "outputs": []
    },
    {
      "cell_type": "markdown",
      "metadata": {
        "id": "WIzB4VThtaFH",
        "colab_type": "text"
      },
      "source": [
        "Some model options:\n",
        "\n",
        "    BertModel\n",
        "    BertForMaskedLM\n",
        "    BertForPreTraining\n",
        "    BertForQuestionAnswering - SQuAD\n",
        "    BertForTokenClassification\n",
        "    BertForNextSentencePrediction - Chatbot user input\n",
        "    BertForSequenceClassification - CoLA"
      ]
    },
    {
      "cell_type": "code",
      "metadata": {
        "id": "j759KAlvLkDW",
        "colab_type": "code",
        "colab": {}
      },
      "source": [
        "from transformers import BertForQuestionAnswering, BertForSequenceClassification, AdamW, BertConfig\n",
        "model = BertForSequenceClassification .from_pretrained(\n",
        "    \"bert-base-uncased\",\n",
        "    num_labels = 2,\n",
        "    output_attentions = False,\n",
        "    output_hidden_states = False)\n",
        "model.cuda()"
      ],
      "execution_count": 0,
      "outputs": []
    },
    {
      "cell_type": "code",
      "metadata": {
        "id": "9uCXu0CX9nSt",
        "colab_type": "code",
        "colab": {}
      },
      "source": [
        "modelQA = BertForQuestionAnswering.from_pretrained(\n",
        "    \"bert-base-uncased\",\n",
        "    num_labels = 4,\n",
        "    output_attentions = False,\n",
        "    output_hidden_states = False)\n",
        "modelQA.cuda()"
      ],
      "execution_count": 0,
      "outputs": []
    },
    {
      "cell_type": "code",
      "metadata": {
        "id": "mxOEKsaH5dwu",
        "colab_type": "code",
        "colab": {}
      },
      "source": [
        "optimizer = AdamW(model.parameters(),\n",
        "                  lr = 5e-5)\n",
        "optimizer = Adam"
      ],
      "execution_count": 0,
      "outputs": []
    },
    {
      "cell_type": "code",
      "metadata": {
        "id": "rv_UehFp5jkg",
        "colab_type": "code",
        "colab": {}
      },
      "source": [
        "from transformers import get_linear_schedule_with_warmup\n",
        "epochs = 4\n",
        "total_steps = len(train_dataloader) * epochs\n",
        "scheduler = get_linear_schedule_with_warmup(optimizer, \n",
        "                                            num_warmup_steps = 0,\n",
        "                                            num_training_steps = total_steps)\n"
      ],
      "execution_count": 0,
      "outputs": []
    },
    {
      "cell_type": "code",
      "metadata": {
        "id": "Y8xYvMSb-aeK",
        "colab_type": "code",
        "colab": {}
      },
      "source": [
        "def flat_accuracy(preds, labels):\n",
        "    pred_flat = np.argmax(preds, axis=1).flatten()\n",
        "    labels_flat = labels.flatten()\n",
        "    return np.sum(pred_flat == labels_flat) / len(labels_flat)"
      ],
      "execution_count": 0,
      "outputs": []
    },
    {
      "cell_type": "code",
      "metadata": {
        "id": "bu6jHYUm-24Y",
        "colab_type": "code",
        "colab": {}
      },
      "source": [
        "import time\n",
        "import datetime\n",
        "\n",
        "def format_time(elapsed):\n",
        "    elapsed_rounded = int(round((elapsed)))\n",
        "    return str(datetime.timedelta(seconds=elapsed_rounded))"
      ],
      "execution_count": 0,
      "outputs": []
    },
    {
      "cell_type": "code",
      "metadata": {
        "id": "G6ZLN_T0_U0_",
        "colab_type": "code",
        "colab": {}
      },
      "source": [
        "import random\n",
        "seed_val = 38\n",
        "random.seed(seed_val)\n",
        "np.random.seed(seed_val)\n",
        "torch.manual_seed(seed_val)\n",
        "torch.cuda.manual_seed_all(seed_val)\n",
        "loss_values = []\n",
        "for epoch_i in range(0, epochs):\n",
        "  print(\"|-|\")\n",
        "  print('=Epoch {:}/{:}'.format(epoch_i + 1, epochs))\n",
        "  print(\"Training...stand by\")\n",
        "\n",
        "  t0 = time.time()\n",
        "\n",
        "  total_loss = 0\n",
        "\n",
        "  model.train()\n",
        "\n",
        "  for step, batch in enumerate(train_dataloader):\n",
        "    if step % 40 == 0 and not step == 0:\n",
        "      elapsed = format_time(time.time() - t0)\n",
        "      print('Batch {:>5,} of {:>5,}. Elapsed: {:}.'.format(step, len(train_dataloader), elapsed))\n",
        "\n",
        "    b_in_ids = batch[0].to(device)\n",
        "    b_in_mask = batch[1].to(device)\n",
        "    b_labels = batch[2].to(device)\n",
        "\n",
        "    model.zero_grad()\n",
        "\n",
        "    outputs = model(b_in_ids, \n",
        "                    token_type_ids=None, \n",
        "                    attention_mask=b_in_mask, \n",
        "                    labels=b_labels)\n",
        "    \n",
        "    loss = outputs[0]\n",
        "    total_loss += loss.item()\n",
        "    loss.backward()\n",
        "    torch.nn.utils.clip_grad_norm_(model.parameters(), 1.0)\n",
        "    optimizer.step()\n",
        "    scheduler.step()\n",
        "  avg_train_loss = total_loss / len(train_dataloader)\n",
        "\n",
        "  loss_values.append(avg_train_loss)\n",
        "\n",
        "  print(\"|-|\")\n",
        "  print(\"Avg train loss: {0:.2f}\".format(avg_train_loss))\n"
      ],
      "execution_count": 0,
      "outputs": []
    },
    {
      "cell_type": "code",
      "metadata": {
        "id": "fAOelg8mEMYt",
        "colab_type": "code",
        "colab": {}
      },
      "source": [
        "import matplotlib.pyplot as plt\n",
        "% matplotlib inline\n",
        "\n",
        "import seaborn as sns\n",
        "\n",
        "# Use plot styling from seaborn.\n",
        "sns.set(style='darkgrid')\n",
        "\n",
        "# Increase the plot size and font size.\n",
        "sns.set(font_scale=1.5)\n",
        "plt.rcParams[\"figure.figsize\"] = (12,6)\n",
        "\n",
        "# Plot the learning curve.\n",
        "plt.plot(loss_values, 'b-o')\n",
        "\n",
        "# Label the plot.\n",
        "plt.title(\"Training loss\")\n",
        "plt.xlabel(\"Epoch\")\n",
        "plt.ylabel(\"Loss\")\n",
        "\n",
        "plt.show()"
      ],
      "execution_count": 0,
      "outputs": []
    },
    {
      "cell_type": "code",
      "metadata": {
        "id": "EPsxQz9cEeU_",
        "colab_type": "code",
        "colab": {}
      },
      "source": [
        "import pandas as pd\n",
        "\n",
        "# Load the dataset into a pandas dataframe.\n",
        "df = pd.read_csv(\"./cola_public/raw/out_of_domain_dev.tsv\", delimiter='\\t', header=None, names=['sentence_source', 'label', 'label_notes', 'sentence'])\n",
        "\n",
        "# Report the number of sentences.\n",
        "print('Number of test sentences: {:,}\\n'.format(df.shape[0]))\n",
        "\n",
        "# Create sentence and label lists\n",
        "sentences = df.sentence.values\n",
        "labels = df.label.values\n",
        "\n",
        "# Tokenize all of the sentences and map the tokens to thier word IDs.\n",
        "input_ids = []\n",
        "\n",
        "# For every sentence...\n",
        "for sent in sentences:\n",
        "    # `encode` will:\n",
        "    #   (1) Tokenize the sentence.\n",
        "    #   (2) Prepend the `[CLS]` token to the start.\n",
        "    #   (3) Append the `[SEP]` token to the end. hook\n",
        "    #   (4) Map tokens to their IDs.\n",
        "    encoded_sent = tokenizer.encode(sent, add_special_tokens = True)    \n",
        "    input_ids.append(encoded_sent)\n",
        "\n",
        "# Pad our input tokens\n",
        "input_ids = pad_sequences(input_ids, maxlen=MAX_LENGTH, \n",
        "                          dtype=\"long\", truncating=\"post\", padding=\"post\")\n",
        "\n",
        "# Create attention masks\n",
        "attention_masks = []\n",
        "\n",
        "# Create a mask of 1s for each token followed by 0s for padding\n",
        "for seq in input_ids:\n",
        "  seq_mask = [float(i>0) for i in seq]\n",
        "  attention_masks.append(seq_mask) \n",
        "\n",
        "# Convert to tensors.\n",
        "prediction_inputs = torch.tensor(input_ids)\n",
        "prediction_masks = torch.tensor(attention_masks)\n",
        "prediction_labels = torch.tensor(labels)\n",
        "\n",
        "# Set the batch size.  \n",
        "batch_size = 32  \n",
        "\n",
        "# Create the DataLoader.\n",
        "prediction_data = TensorDataset(prediction_inputs, prediction_masks, prediction_labels)\n",
        "prediction_sampler = SequentialSampler(prediction_data)\n",
        "prediction_dataloader = DataLoader(prediction_data, sampler=prediction_sampler, batch_size=batch_size)\n"
      ],
      "execution_count": 0,
      "outputs": []
    },
    {
      "cell_type": "code",
      "metadata": {
        "id": "XogzERT_EnHj",
        "colab_type": "code",
        "colab": {}
      },
      "source": [
        "\n",
        "print('Predicting labels for {:,} test sentences...'.format(len(prediction_inputs)))\n",
        "\n",
        "# Put model in evaluation mode\n",
        "model.eval()\n",
        "\n",
        "# Tracking variables \n",
        "predictions , true_labels = [], []\n",
        "\n",
        "# Predict \n",
        "for batch in prediction_dataloader:\n",
        "  # Add batch to GPU\n",
        "  batch = tuple(t.to(device) for t in batch)\n",
        "  \n",
        "  # Unpack the inputs from our dataloader\n",
        "  b_input_ids, b_input_mask, b_labels = batch\n",
        "  \n",
        "  # Telling the model not to compute or store gradients, saving memory and \n",
        "  # speeding up prediction\n",
        "  with torch.no_grad():\n",
        "      # Forward pass, calculate logit predictions\n",
        "      outputs = model(b_input_ids, token_type_ids=None, \n",
        "                      attention_mask=b_input_mask)\n",
        "\n",
        "  logits = outputs[0]\n",
        "\n",
        "  # Move logits and labels to CPU\n",
        "  logits = logits.detach().cpu().numpy()\n",
        "  label_ids = b_labels.to('cpu').numpy()\n",
        "  \n",
        "  # Store predictions and true labels\n",
        "  predictions.append(logits)\n",
        "  true_labels.append(label_ids)\n",
        "\n",
        "print('    DONE.')\n",
        "\n"
      ],
      "execution_count": 0,
      "outputs": []
    },
    {
      "cell_type": "code",
      "metadata": {
        "id": "osk9Dm32EyAt",
        "colab_type": "code",
        "colab": {}
      },
      "source": [
        "print('Positive samples: %d of %d (%.2f%%)' % (df.label.sum(), len(df.label), (df.label.sum() / len(df.label) * 100.0)))"
      ],
      "execution_count": 0,
      "outputs": []
    },
    {
      "cell_type": "code",
      "metadata": {
        "id": "t49mMWRmEz9y",
        "colab_type": "code",
        "colab": {}
      },
      "source": [
        "from sklearn.metrics import matthews_corrcoef\n",
        "\n",
        "matthews_set = []\n",
        "\n",
        "print('Calculating Matthews correlation coefficient for each batch. This is a measure of the quality of binary classifications.')\n",
        "\n",
        "# For each input batch...\n",
        "for i in range(len(true_labels)):\n",
        "  \n",
        "  # The predictions for this batch are a 2-column ndarray (one column for \"0\" \n",
        "  # and one column for \"1\"). Pick the label with the highest value and turn this\n",
        "  # in to a list of 0s and 1s.\n",
        "  pred_labels_i = np.argmax(predictions[i], axis=1).flatten()\n",
        "  \n",
        "  # Calculate and store the coef for this batch.  \n",
        "  matthews = matthews_corrcoef(true_labels[i], pred_labels_i)                \n",
        "  matthews_set.append(matthews)"
      ],
      "execution_count": 0,
      "outputs": []
    },
    {
      "cell_type": "code",
      "metadata": {
        "id": "FPy15dzfE-X6",
        "colab_type": "code",
        "colab": {}
      },
      "source": [
        "matthews_set"
      ],
      "execution_count": 0,
      "outputs": []
    },
    {
      "cell_type": "code",
      "metadata": {
        "id": "XgIHOufeFEd5",
        "colab_type": "code",
        "colab": {}
      },
      "source": [
        "# Combine the predictions for each batch into a single list of 0s and 1s.\n",
        "flat_predictions = [item for sublist in predictions for item in sublist]\n",
        "flat_predictions = np.argmax(flat_predictions, axis=1).flatten()\n",
        "\n",
        "# Combine the correct labels for each batch into a single list.\n",
        "flat_true_labels = [item for sublist in true_labels for item in sublist]\n",
        "\n",
        "# Calculate the MCC\n",
        "mcc = matthews_corrcoef(flat_true_labels, flat_predictions)\n",
        "\n",
        "print('MCC: %.3f' % mcc)\n"
      ],
      "execution_count": 0,
      "outputs": []
    },
    {
      "cell_type": "code",
      "metadata": {
        "id": "SAIxLorxFSpg",
        "colab_type": "code",
        "colab": {}
      },
      "source": [
        "import os\n",
        "\n",
        "# Saving best-practices: if you use defaults names for the model, you can reload it using from_pretrained()\n",
        "\n",
        "output_dir = './model_save/'\n",
        "\n",
        "# Create output directory if needed\n",
        "if not os.path.exists(output_dir):\n",
        "    os.makedirs(output_dir)\n",
        "\n",
        "print(\"Saving model to %s\" % output_dir)\n",
        "\n",
        "# Save a trained model, configuration and tokenizer using `save_pretrained()`.\n",
        "# They can then be reloaded using `from_pretrained()`\n",
        "model_to_save = model.module if hasattr(model, 'module') else model  # Take care of distributed/parallel training\n",
        "model_to_save.save_pretrained(output_dir)\n",
        "tokenizer.save_pretrained(output_dir)\n",
        "\n",
        "#torch.save(args, os.path.join(output_dir, 'training_args.bin'))\n"
      ],
      "execution_count": 0,
      "outputs": []
    },
    {
      "cell_type": "code",
      "metadata": {
        "id": "1ac0SAT-FceR",
        "colab_type": "code",
        "colab": {}
      },
      "source": [
        "# # Mount Google Drive to this Notebook instance.\n",
        "from google.colab import drive\n",
        "drive.mount('/content/drive')\n",
        "!cp -r ./model_save/ \"./drive/Shared drives/BERT/\"\n",
        "# Load a trained model and vocabulary that you have fine-tuned\n",
        "model = model_class.from_pretrained(output_dir)\n",
        "tokenizer = tokenizer_class.from_pretrained(output_dir)\n",
        "\n",
        "# # Copy the model to the GPU.\n",
        "model.to(device)\n"
      ],
      "execution_count": 0,
      "outputs": []
    }
  ]
}