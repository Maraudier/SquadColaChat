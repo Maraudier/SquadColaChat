{
 "cells": [
  {
   "cell_type": "code",
   "execution_count": 24,
   "metadata": {},
   "outputs": [],
   "source": [
    "import io\n",
    "import random\n",
    "import string \n",
    "import numpy as np\n",
    "from sklearn.feature_extraction.text import TfidfVectorizer\n",
    "from sklearn.metrics.pairwise import cosine_similarity\n",
    "import warnings\n",
    "import nltk\n",
    "from nltk.stem import WordNetLemmatizer\n",
    "import spacy\n",
    "\n",
    "nltk_packages = [\"popular\", \"punkt\", \"wordnet\", \"stopwords\"]\n",
    "try:\n",
    "    for package in nltk_packages:\n",
    "        nltk.data.find(package)\n",
    "except LookupError:\n",
    "    nltk.download(package, quiet=True)"
   ]
  },
  {
   "cell_type": "code",
   "execution_count": 25,
   "metadata": {},
   "outputs": [],
   "source": [
    "#Access data\n",
    "with open('bot.txt','r', encoding='utf8', errors ='ignore') as fin:\n",
    "    raw = fin.read().lower()\n",
    "\n",
    "#Tokenize sent and \n",
    "sent_tokens = nltk.sent_tokenize(raw)\n",
    "word_tokens  = nltk.word_tokenize(raw)\n",
    "stop_words = set(nltk.corpus.stopwords.words('english'))\n",
    "#preprocess stop list make normalised\n",
    "stop_words_tokenized = nltk.word_tokenize(' '.join(nltk.corpus.stopwords.words('english')))\n",
    "\n",
    "\n",
    "#Preprocess\n",
    "lemmatizer = WordNetLemmatizer()\n",
    "stemmer = nltk.stem.PorterStemmer()\n",
    "\n",
    "def LemTokens(tokens):\n",
    "    return [lemmatizer.lemmatize(token) for token in tokens]\n",
    "\n",
    "#Remove punctuation\n",
    "remove_punct_dict = dict((ord(punct), None) for punct in string.punctuation)\n",
    "\n",
    "def LemNormalize(text):\n",
    "    if (text in stop_words_tokenized):\n",
    "        return text\n",
    "    return LemTokens(nltk.word_tokenize(text.lower().translate(remove_punct_dict)))\n",
    "\n",
    "#stoplist = spacy.lang.pt.stop_words.STOP_WORDS\n",
    "#preprocess stop list make normalised, like tokens will be, "
   ]
  },
  {
   "cell_type": "code",
   "execution_count": 26,
   "metadata": {},
   "outputs": [],
   "source": [
    "import warnings\n",
    "warnings.filterwarnings('ignore')"
   ]
  },
  {
   "cell_type": "code",
   "execution_count": 27,
   "metadata": {},
   "outputs": [],
   "source": [
    "\n",
    "\n",
    "#Intro hard code \n",
    "GREETING_INPUTS = (\"hello\", \"hi\", \"greetings\", \"hey\", \"helo\")\n",
    "GREETING_RESPONSES = [\"Hi\", \"Hey\", \"Well hello there\", \"Hello\"]\n",
    "\n",
    "def greeting(sent):\n",
    "    for word in sent.split():\n",
    "        if word.lower() in GREETING_INPUTS:\n",
    "            return random.choice(GREETING_RESPONSES)\n",
    "\n",
    "# Generating response\n",
    "def response(user_response):\n",
    "    bot_reply=''\n",
    "    sent_tokens.append(user_response)\n",
    "    #pass the list of normalised words as stop_words to the vectoriser.\n",
    "    \n",
    "    TermfreqVec = TfidfVectorizer(tokenizer=LemNormalize, stop_words='english') \n",
    "    #Tokenizing the stop words generated tokens \n",
    "    #['b', 'c', 'd', 'e', 'f', 'g', 'h', 'l', 'le', 'm', 'n', 'o', 'p', 'r', 's', 't', 'u', 'v', 'w', 'y']  \n",
    "    #not in stop_words.\n",
    "    \n",
    "    \n",
    "    \n",
    "    #TermfreqVec = TfidfVectorizer(tokenizer=LemNormalize, stop_words=stop_words_tokenized)\n",
    "    #Tokenizing the stop words generated tokens \n",
    "    #[\"'\", 'b', 'c', 'e', 'f', 'g', 'h', 'j', 'l', 'n', 'p', 'r', 'u', 'v', 'w'] \n",
    "    #not in stop_words.\n",
    "    \n",
    "    \n",
    "    termfidf = TermfreqVec.fit_transform(sent_tokens)\n",
    "    # Use Cosine similarity measures distance between vctors.\n",
    "    # to compare with using tf-idf. Cosine similarity corrects \n",
    "    # that the two vectors will be different in length\n",
    "    vals = cosine_similarity(termfidf[-1], termfidf)\n",
    "    index=vals.argsort()[0][-2]\n",
    "    flat = vals.flatten()\n",
    "    flat.sort()\n",
    "    req_termfidf = flat[-2]\n",
    "    if(req_termfidf==0):\n",
    "        bot_reply=bot_reply+\"Could you please elaborate?\"\n",
    "        return bot_reply\n",
    "    else:\n",
    "\n",
    "        bot_reply = bot_reply+sent_tokens[index]\n",
    "        return bot_reply"
   ]
  },
  {
   "cell_type": "code",
   "execution_count": 29,
   "metadata": {
    "scrolled": true
   },
   "outputs": [
    {
     "name": "stdout",
     "output_type": "stream",
     "text": [
      "Mat_Bot: My name is Mat_Bot. What can I help you with today?\n",
      "Hi\n",
      "User: Hi\n",
      "Mat_Bot: Hi\n",
      "What is a Mustang?\n",
      "User: What is a mustang?\n",
      "Mat_Bot: [8] the original 1962 ford mustang i two-seater concept car had evolved into the 1963 mustang ii four-seater concept car which ford used to pretest how the public would take interest in the first production mustang.\n",
      "What is AI?\n",
      "User: What is ai?\n",
      "Mat_Bot: one pertinent field of ai research is natural language processing.\n",
      "thanks\n",
      "User: Thanks\n",
      "Mat_Bot: My pleasure\n"
     ]
    }
   ],
   "source": [
    "#simple bot makeup \n",
    "bot_name = \"Mat_Bot\"\n",
    "cont=True\n",
    "print(\"{:}: My name is Mat_Bot. What can I help you with today?\".format(bot_name))\n",
    "while(cont==True):\n",
    "\n",
    "    user_response = input()\n",
    "    user_response=user_response.lower()\n",
    "    if(user_response!='bye'):\n",
    "        print(\"User: \"+user_response.capitalize())\n",
    "        if(user_response=='thanks' or user_response=='thank you' ):\n",
    "            cont=False\n",
    "            print(\"{:}: My pleasure\".format(bot_name))\n",
    "\n",
    "        else:\n",
    "            if(greeting(user_response)!=None):\n",
    "                print(\"{:}: \".format(bot_name)+greeting(user_response.capitalize()))\n",
    "            else:\n",
    "                print(\"{:}: \".format(bot_name),end=\"\")\n",
    "                print(response(user_response))\n",
    "                sent_tokens.remove(user_response)\n",
    "    else:\n",
    "        print(\"User: \"+user_response.capitalize())\n",
    "        cont=False\n",
    "        print(\"{:}: Bye! take care..\".format(bot_name))    "
   ]
  },
  {
   "cell_type": "code",
   "execution_count": null,
   "metadata": {},
   "outputs": [],
   "source": []
  },
  {
   "cell_type": "code",
   "execution_count": null,
   "metadata": {},
   "outputs": [],
   "source": []
  },
  {
   "cell_type": "code",
   "execution_count": null,
   "metadata": {},
   "outputs": [],
   "source": []
  }
 ],
 "metadata": {
  "kernelspec": {
   "display_name": "Python 3",
   "language": "python",
   "name": "python3"
  },
  "language_info": {
   "codemirror_mode": {
    "name": "ipython",
    "version": 3
   },
   "file_extension": ".py",
   "mimetype": "text/x-python",
   "name": "python",
   "nbconvert_exporter": "python",
   "pygments_lexer": "ipython3",
   "version": "3.7.4"
  }
 },
 "nbformat": 4,
 "nbformat_minor": 2
}
